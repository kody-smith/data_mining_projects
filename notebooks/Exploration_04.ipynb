{
  "nbformat": 4,
  "nbformat_minor": 0,
  "metadata": {
    "colab": {
      "name": "DataExploration_04.ipynb",
      "provenance": [],
      "collapsed_sections": [],
      "toc_visible": true
    },
    "kernelspec": {
      "name": "python3",
      "display_name": "Python 3"
    }
  },
  "cells": [
    {
      "cell_type": "markdown",
      "metadata": {
        "id": "_HtJm0H1tqTm"
      },
      "source": [
        "# Data Exploration 04\n",
        "\n",
        "You're working with a team of botanists to develop a flower classification system. \n",
        "\n",
        "Your assignment is to build a k-Nearest Neighbors model to classify flowers based on their petal and sepal sizes."
      ]
    },
    {
      "cell_type": "markdown",
      "metadata": {
        "id": "s39MWdV8t6UB"
      },
      "source": [
        "## Part A: Import and Explore the data\n",
        "\n",
        "The dataset for this exploration is stored at the following url:\n",
        "\n",
        "[https://raw.githubusercontent.com/byui-cse/cse450-course/master/data/iris.csv](https://raw.githubusercontent.com/byui-cse/cse450-course/master/data/iris.csv)\n",
        "\n",
        "### Initial Data Analysis\n",
        "Once you've loaded the data, it's a good idea to poke around a little bit to find out what you're dealing with.\n",
        "\n",
        "Some questions you might ask include:\n",
        "\n",
        "* What does the data look like?\n",
        "* What kind of data is in each column? \n",
        "* Do any of the columns have missing values?"
      ]
    },
    {
      "cell_type": "code",
      "metadata": {
        "id": "OIyOz1W-kvIR"
      },
      "source": [
        "import pandas as pd\n",
        "import altair as alt"
      ],
      "execution_count": 1,
      "outputs": []
    },
    {
      "cell_type": "code",
      "metadata": {
        "id": "Osg2wpr0ul6R",
        "outputId": "a7d578d6-1bb4-4782-b932-e8deaa3563eb",
        "colab": {
          "base_uri": "https://localhost:8080/",
          "height": 206
        }
      },
      "source": [
        "iris = pd.read_csv(\"https://raw.githubusercontent.com/byui-cse/cse450-course/master/data/iris.csv\")\n",
        "iris.head()"
      ],
      "execution_count": 2,
      "outputs": [
        {
          "data": {
            "text/html": [
              "\n",
              "  <div id=\"df-5483d1be-b5f8-4a91-b332-815bd21ef600\">\n",
              "    <div class=\"colab-df-container\">\n",
              "      <div>\n",
              "<style scoped>\n",
              "    .dataframe tbody tr th:only-of-type {\n",
              "        vertical-align: middle;\n",
              "    }\n",
              "\n",
              "    .dataframe tbody tr th {\n",
              "        vertical-align: top;\n",
              "    }\n",
              "\n",
              "    .dataframe thead th {\n",
              "        text-align: right;\n",
              "    }\n",
              "</style>\n",
              "<table border=\"1\" class=\"dataframe\">\n",
              "  <thead>\n",
              "    <tr style=\"text-align: right;\">\n",
              "      <th></th>\n",
              "      <th>sepal_length</th>\n",
              "      <th>sepal_width</th>\n",
              "      <th>petal_length</th>\n",
              "      <th>petal_width</th>\n",
              "      <th>species</th>\n",
              "    </tr>\n",
              "  </thead>\n",
              "  <tbody>\n",
              "    <tr>\n",
              "      <th>0</th>\n",
              "      <td>5.1</td>\n",
              "      <td>3.5</td>\n",
              "      <td>1.4</td>\n",
              "      <td>0.2</td>\n",
              "      <td>Iris-setosa</td>\n",
              "    </tr>\n",
              "    <tr>\n",
              "      <th>1</th>\n",
              "      <td>4.9</td>\n",
              "      <td>3.0</td>\n",
              "      <td>1.4</td>\n",
              "      <td>0.2</td>\n",
              "      <td>Iris-setosa</td>\n",
              "    </tr>\n",
              "    <tr>\n",
              "      <th>2</th>\n",
              "      <td>4.7</td>\n",
              "      <td>3.2</td>\n",
              "      <td>1.3</td>\n",
              "      <td>0.2</td>\n",
              "      <td>Iris-setosa</td>\n",
              "    </tr>\n",
              "    <tr>\n",
              "      <th>3</th>\n",
              "      <td>4.6</td>\n",
              "      <td>3.1</td>\n",
              "      <td>1.5</td>\n",
              "      <td>0.2</td>\n",
              "      <td>Iris-setosa</td>\n",
              "    </tr>\n",
              "    <tr>\n",
              "      <th>4</th>\n",
              "      <td>5.0</td>\n",
              "      <td>3.6</td>\n",
              "      <td>1.4</td>\n",
              "      <td>0.2</td>\n",
              "      <td>Iris-setosa</td>\n",
              "    </tr>\n",
              "  </tbody>\n",
              "</table>\n",
              "</div>\n",
              "      <button class=\"colab-df-convert\" onclick=\"convertToInteractive('df-5483d1be-b5f8-4a91-b332-815bd21ef600')\"\n",
              "              title=\"Convert this dataframe to an interactive table.\"\n",
              "              style=\"display:none;\">\n",
              "        \n",
              "  <svg xmlns=\"http://www.w3.org/2000/svg\" height=\"24px\"viewBox=\"0 0 24 24\"\n",
              "       width=\"24px\">\n",
              "    <path d=\"M0 0h24v24H0V0z\" fill=\"none\"/>\n",
              "    <path d=\"M18.56 5.44l.94 2.06.94-2.06 2.06-.94-2.06-.94-.94-2.06-.94 2.06-2.06.94zm-11 1L8.5 8.5l.94-2.06 2.06-.94-2.06-.94L8.5 2.5l-.94 2.06-2.06.94zm10 10l.94 2.06.94-2.06 2.06-.94-2.06-.94-.94-2.06-.94 2.06-2.06.94z\"/><path d=\"M17.41 7.96l-1.37-1.37c-.4-.4-.92-.59-1.43-.59-.52 0-1.04.2-1.43.59L10.3 9.45l-7.72 7.72c-.78.78-.78 2.05 0 2.83L4 21.41c.39.39.9.59 1.41.59.51 0 1.02-.2 1.41-.59l7.78-7.78 2.81-2.81c.8-.78.8-2.07 0-2.86zM5.41 20L4 18.59l7.72-7.72 1.47 1.35L5.41 20z\"/>\n",
              "  </svg>\n",
              "      </button>\n",
              "      \n",
              "  <style>\n",
              "    .colab-df-container {\n",
              "      display:flex;\n",
              "      flex-wrap:wrap;\n",
              "      gap: 12px;\n",
              "    }\n",
              "\n",
              "    .colab-df-convert {\n",
              "      background-color: #E8F0FE;\n",
              "      border: none;\n",
              "      border-radius: 50%;\n",
              "      cursor: pointer;\n",
              "      display: none;\n",
              "      fill: #1967D2;\n",
              "      height: 32px;\n",
              "      padding: 0 0 0 0;\n",
              "      width: 32px;\n",
              "    }\n",
              "\n",
              "    .colab-df-convert:hover {\n",
              "      background-color: #E2EBFA;\n",
              "      box-shadow: 0px 1px 2px rgba(60, 64, 67, 0.3), 0px 1px 3px 1px rgba(60, 64, 67, 0.15);\n",
              "      fill: #174EA6;\n",
              "    }\n",
              "\n",
              "    [theme=dark] .colab-df-convert {\n",
              "      background-color: #3B4455;\n",
              "      fill: #D2E3FC;\n",
              "    }\n",
              "\n",
              "    [theme=dark] .colab-df-convert:hover {\n",
              "      background-color: #434B5C;\n",
              "      box-shadow: 0px 1px 3px 1px rgba(0, 0, 0, 0.15);\n",
              "      filter: drop-shadow(0px 1px 2px rgba(0, 0, 0, 0.3));\n",
              "      fill: #FFFFFF;\n",
              "    }\n",
              "  </style>\n",
              "\n",
              "      <script>\n",
              "        const buttonEl =\n",
              "          document.querySelector('#df-5483d1be-b5f8-4a91-b332-815bd21ef600 button.colab-df-convert');\n",
              "        buttonEl.style.display =\n",
              "          google.colab.kernel.accessAllowed ? 'block' : 'none';\n",
              "\n",
              "        async function convertToInteractive(key) {\n",
              "          const element = document.querySelector('#df-5483d1be-b5f8-4a91-b332-815bd21ef600');\n",
              "          const dataTable =\n",
              "            await google.colab.kernel.invokeFunction('convertToInteractive',\n",
              "                                                     [key], {});\n",
              "          if (!dataTable) return;\n",
              "\n",
              "          const docLinkHtml = 'Like what you see? Visit the ' +\n",
              "            '<a target=\"_blank\" href=https://colab.research.google.com/notebooks/data_table.ipynb>data table notebook</a>'\n",
              "            + ' to learn more about interactive tables.';\n",
              "          element.innerHTML = '';\n",
              "          dataTable['output_type'] = 'display_data';\n",
              "          await google.colab.output.renderOutput(dataTable, element);\n",
              "          const docLink = document.createElement('div');\n",
              "          docLink.innerHTML = docLinkHtml;\n",
              "          element.appendChild(docLink);\n",
              "        }\n",
              "      </script>\n",
              "    </div>\n",
              "  </div>\n",
              "  "
            ],
            "text/plain": [
              "   sepal_length  sepal_width  petal_length  petal_width      species\n",
              "0           5.1          3.5           1.4          0.2  Iris-setosa\n",
              "1           4.9          3.0           1.4          0.2  Iris-setosa\n",
              "2           4.7          3.2           1.3          0.2  Iris-setosa\n",
              "3           4.6          3.1           1.5          0.2  Iris-setosa\n",
              "4           5.0          3.6           1.4          0.2  Iris-setosa"
            ]
          },
          "execution_count": null,
          "metadata": {},
          "output_type": "execute_result"
        }
      ]
    },
    {
      "cell_type": "code",
      "metadata": {
        "id": "tPlZ1WmWunXB",
        "outputId": "d8b01af3-b75c-4659-cedf-159d86c40d4d",
        "colab": {
          "base_uri": "https://localhost:8080/",
          "height": 300
        }
      },
      "source": [
        "iris.describe()"
      ],
      "execution_count": 3,
      "outputs": [
        {
          "data": {
            "text/html": [
              "\n",
              "  <div id=\"df-8dcc6655-bb57-4c4a-b2a7-784f08f74a2b\">\n",
              "    <div class=\"colab-df-container\">\n",
              "      <div>\n",
              "<style scoped>\n",
              "    .dataframe tbody tr th:only-of-type {\n",
              "        vertical-align: middle;\n",
              "    }\n",
              "\n",
              "    .dataframe tbody tr th {\n",
              "        vertical-align: top;\n",
              "    }\n",
              "\n",
              "    .dataframe thead th {\n",
              "        text-align: right;\n",
              "    }\n",
              "</style>\n",
              "<table border=\"1\" class=\"dataframe\">\n",
              "  <thead>\n",
              "    <tr style=\"text-align: right;\">\n",
              "      <th></th>\n",
              "      <th>sepal_length</th>\n",
              "      <th>sepal_width</th>\n",
              "      <th>petal_length</th>\n",
              "      <th>petal_width</th>\n",
              "    </tr>\n",
              "  </thead>\n",
              "  <tbody>\n",
              "    <tr>\n",
              "      <th>count</th>\n",
              "      <td>150.000000</td>\n",
              "      <td>150.000000</td>\n",
              "      <td>150.000000</td>\n",
              "      <td>150.000000</td>\n",
              "    </tr>\n",
              "    <tr>\n",
              "      <th>mean</th>\n",
              "      <td>5.843333</td>\n",
              "      <td>3.054000</td>\n",
              "      <td>3.758667</td>\n",
              "      <td>1.198667</td>\n",
              "    </tr>\n",
              "    <tr>\n",
              "      <th>std</th>\n",
              "      <td>0.828066</td>\n",
              "      <td>0.433594</td>\n",
              "      <td>1.764420</td>\n",
              "      <td>0.763161</td>\n",
              "    </tr>\n",
              "    <tr>\n",
              "      <th>min</th>\n",
              "      <td>4.300000</td>\n",
              "      <td>2.000000</td>\n",
              "      <td>1.000000</td>\n",
              "      <td>0.100000</td>\n",
              "    </tr>\n",
              "    <tr>\n",
              "      <th>25%</th>\n",
              "      <td>5.100000</td>\n",
              "      <td>2.800000</td>\n",
              "      <td>1.600000</td>\n",
              "      <td>0.300000</td>\n",
              "    </tr>\n",
              "    <tr>\n",
              "      <th>50%</th>\n",
              "      <td>5.800000</td>\n",
              "      <td>3.000000</td>\n",
              "      <td>4.350000</td>\n",
              "      <td>1.300000</td>\n",
              "    </tr>\n",
              "    <tr>\n",
              "      <th>75%</th>\n",
              "      <td>6.400000</td>\n",
              "      <td>3.300000</td>\n",
              "      <td>5.100000</td>\n",
              "      <td>1.800000</td>\n",
              "    </tr>\n",
              "    <tr>\n",
              "      <th>max</th>\n",
              "      <td>7.900000</td>\n",
              "      <td>4.400000</td>\n",
              "      <td>6.900000</td>\n",
              "      <td>2.500000</td>\n",
              "    </tr>\n",
              "  </tbody>\n",
              "</table>\n",
              "</div>\n",
              "      <button class=\"colab-df-convert\" onclick=\"convertToInteractive('df-8dcc6655-bb57-4c4a-b2a7-784f08f74a2b')\"\n",
              "              title=\"Convert this dataframe to an interactive table.\"\n",
              "              style=\"display:none;\">\n",
              "        \n",
              "  <svg xmlns=\"http://www.w3.org/2000/svg\" height=\"24px\"viewBox=\"0 0 24 24\"\n",
              "       width=\"24px\">\n",
              "    <path d=\"M0 0h24v24H0V0z\" fill=\"none\"/>\n",
              "    <path d=\"M18.56 5.44l.94 2.06.94-2.06 2.06-.94-2.06-.94-.94-2.06-.94 2.06-2.06.94zm-11 1L8.5 8.5l.94-2.06 2.06-.94-2.06-.94L8.5 2.5l-.94 2.06-2.06.94zm10 10l.94 2.06.94-2.06 2.06-.94-2.06-.94-.94-2.06-.94 2.06-2.06.94z\"/><path d=\"M17.41 7.96l-1.37-1.37c-.4-.4-.92-.59-1.43-.59-.52 0-1.04.2-1.43.59L10.3 9.45l-7.72 7.72c-.78.78-.78 2.05 0 2.83L4 21.41c.39.39.9.59 1.41.59.51 0 1.02-.2 1.41-.59l7.78-7.78 2.81-2.81c.8-.78.8-2.07 0-2.86zM5.41 20L4 18.59l7.72-7.72 1.47 1.35L5.41 20z\"/>\n",
              "  </svg>\n",
              "      </button>\n",
              "      \n",
              "  <style>\n",
              "    .colab-df-container {\n",
              "      display:flex;\n",
              "      flex-wrap:wrap;\n",
              "      gap: 12px;\n",
              "    }\n",
              "\n",
              "    .colab-df-convert {\n",
              "      background-color: #E8F0FE;\n",
              "      border: none;\n",
              "      border-radius: 50%;\n",
              "      cursor: pointer;\n",
              "      display: none;\n",
              "      fill: #1967D2;\n",
              "      height: 32px;\n",
              "      padding: 0 0 0 0;\n",
              "      width: 32px;\n",
              "    }\n",
              "\n",
              "    .colab-df-convert:hover {\n",
              "      background-color: #E2EBFA;\n",
              "      box-shadow: 0px 1px 2px rgba(60, 64, 67, 0.3), 0px 1px 3px 1px rgba(60, 64, 67, 0.15);\n",
              "      fill: #174EA6;\n",
              "    }\n",
              "\n",
              "    [theme=dark] .colab-df-convert {\n",
              "      background-color: #3B4455;\n",
              "      fill: #D2E3FC;\n",
              "    }\n",
              "\n",
              "    [theme=dark] .colab-df-convert:hover {\n",
              "      background-color: #434B5C;\n",
              "      box-shadow: 0px 1px 3px 1px rgba(0, 0, 0, 0.15);\n",
              "      filter: drop-shadow(0px 1px 2px rgba(0, 0, 0, 0.3));\n",
              "      fill: #FFFFFF;\n",
              "    }\n",
              "  </style>\n",
              "\n",
              "      <script>\n",
              "        const buttonEl =\n",
              "          document.querySelector('#df-8dcc6655-bb57-4c4a-b2a7-784f08f74a2b button.colab-df-convert');\n",
              "        buttonEl.style.display =\n",
              "          google.colab.kernel.accessAllowed ? 'block' : 'none';\n",
              "\n",
              "        async function convertToInteractive(key) {\n",
              "          const element = document.querySelector('#df-8dcc6655-bb57-4c4a-b2a7-784f08f74a2b');\n",
              "          const dataTable =\n",
              "            await google.colab.kernel.invokeFunction('convertToInteractive',\n",
              "                                                     [key], {});\n",
              "          if (!dataTable) return;\n",
              "\n",
              "          const docLinkHtml = 'Like what you see? Visit the ' +\n",
              "            '<a target=\"_blank\" href=https://colab.research.google.com/notebooks/data_table.ipynb>data table notebook</a>'\n",
              "            + ' to learn more about interactive tables.';\n",
              "          element.innerHTML = '';\n",
              "          dataTable['output_type'] = 'display_data';\n",
              "          await google.colab.output.renderOutput(dataTable, element);\n",
              "          const docLink = document.createElement('div');\n",
              "          docLink.innerHTML = docLinkHtml;\n",
              "          element.appendChild(docLink);\n",
              "        }\n",
              "      </script>\n",
              "    </div>\n",
              "  </div>\n",
              "  "
            ],
            "text/plain": [
              "       sepal_length  sepal_width  petal_length  petal_width\n",
              "count    150.000000   150.000000    150.000000   150.000000\n",
              "mean       5.843333     3.054000      3.758667     1.198667\n",
              "std        0.828066     0.433594      1.764420     0.763161\n",
              "min        4.300000     2.000000      1.000000     0.100000\n",
              "25%        5.100000     2.800000      1.600000     0.300000\n",
              "50%        5.800000     3.000000      4.350000     1.300000\n",
              "75%        6.400000     3.300000      5.100000     1.800000\n",
              "max        7.900000     4.400000      6.900000     2.500000"
            ]
          },
          "execution_count": null,
          "metadata": {},
          "output_type": "execute_result"
        }
      ]
    },
    {
      "cell_type": "code",
      "source": [
        "iris.info()"
      ],
      "metadata": {
        "id": "DrMmOP9Q4dzB",
        "outputId": "5abd8b87-11a2-4265-cff5-c09cbbf2a1b3",
        "colab": {
          "base_uri": "https://localhost:8080/"
        }
      },
      "execution_count": 4,
      "outputs": [
        {
          "metadata": {
            "tags": null
          },
          "name": "stdout",
          "output_type": "stream",
          "text": [
            "<class 'pandas.core.frame.DataFrame'>\n",
            "RangeIndex: 150 entries, 0 to 149\n",
            "Data columns (total 5 columns):\n",
            " #   Column        Non-Null Count  Dtype  \n",
            "---  ------        --------------  -----  \n",
            " 0   sepal_length  150 non-null    float64\n",
            " 1   sepal_width   150 non-null    float64\n",
            " 2   petal_length  150 non-null    float64\n",
            " 3   petal_width   150 non-null    float64\n",
            " 4   species       150 non-null    object \n",
            "dtypes: float64(4), object(1)\n",
            "memory usage: 6.0+ KB\n"
          ]
        }
      ]
    },
    {
      "cell_type": "markdown",
      "metadata": {
        "id": "Yr4L8b3ourg-"
      },
      "source": [
        "## Part B: Visualize the Data\n",
        "\n",
        "Use your preferred visualization library to create a scatterplot showing petal length vs petal width. You should plot each flower species as a different color on the scatter plot."
      ]
    },
    {
      "cell_type": "code",
      "metadata": {
        "id": "NcsmVzKllukC",
        "outputId": "f1366b5b-9e32-4397-dd2f-79bab2112f09",
        "colab": {
          "base_uri": "https://localhost:8080/",
          "height": 363
        }
      },
      "source": [
        "alt.Chart(iris).mark_circle().encode(x=\"petal_length\",y=\"petal_width\",color=\"species\")"
      ],
      "execution_count": 5,
      "outputs": [
        {
          "data": {
            "text/html": [
              "\n",
              "<div id=\"altair-viz-006e1ec77bcc4ce08be92846b8878db2\"></div>\n",
              "<script type=\"text/javascript\">\n",
              "  var VEGA_DEBUG = (typeof VEGA_DEBUG == \"undefined\") ? {} : VEGA_DEBUG;\n",
              "  (function(spec, embedOpt){\n",
              "    let outputDiv = document.currentScript.previousElementSibling;\n",
              "    if (outputDiv.id !== \"altair-viz-006e1ec77bcc4ce08be92846b8878db2\") {\n",
              "      outputDiv = document.getElementById(\"altair-viz-006e1ec77bcc4ce08be92846b8878db2\");\n",
              "    }\n",
              "    const paths = {\n",
              "      \"vega\": \"https://cdn.jsdelivr.net/npm//vega@5?noext\",\n",
              "      \"vega-lib\": \"https://cdn.jsdelivr.net/npm//vega-lib?noext\",\n",
              "      \"vega-lite\": \"https://cdn.jsdelivr.net/npm//vega-lite@4.17.0?noext\",\n",
              "      \"vega-embed\": \"https://cdn.jsdelivr.net/npm//vega-embed@6?noext\",\n",
              "    };\n",
              "\n",
              "    function maybeLoadScript(lib, version) {\n",
              "      var key = `${lib.replace(\"-\", \"\")}_version`;\n",
              "      return (VEGA_DEBUG[key] == version) ?\n",
              "        Promise.resolve(paths[lib]) :\n",
              "        new Promise(function(resolve, reject) {\n",
              "          var s = document.createElement('script');\n",
              "          document.getElementsByTagName(\"head\")[0].appendChild(s);\n",
              "          s.async = true;\n",
              "          s.onload = () => {\n",
              "            VEGA_DEBUG[key] = version;\n",
              "            return resolve(paths[lib]);\n",
              "          };\n",
              "          s.onerror = () => reject(`Error loading script: ${paths[lib]}`);\n",
              "          s.src = paths[lib];\n",
              "        });\n",
              "    }\n",
              "\n",
              "    function showError(err) {\n",
              "      outputDiv.innerHTML = `<div class=\"error\" style=\"color:red;\">${err}</div>`;\n",
              "      throw err;\n",
              "    }\n",
              "\n",
              "    function displayChart(vegaEmbed) {\n",
              "      vegaEmbed(outputDiv, spec, embedOpt)\n",
              "        .catch(err => showError(`Javascript Error: ${err.message}<br>This usually means there's a typo in your chart specification. See the javascript console for the full traceback.`));\n",
              "    }\n",
              "\n",
              "    if(typeof define === \"function\" && define.amd) {\n",
              "      requirejs.config({paths});\n",
              "      require([\"vega-embed\"], displayChart, err => showError(`Error loading script: ${err.message}`));\n",
              "    } else {\n",
              "      maybeLoadScript(\"vega\", \"5\")\n",
              "        .then(() => maybeLoadScript(\"vega-lite\", \"4.17.0\"))\n",
              "        .then(() => maybeLoadScript(\"vega-embed\", \"6\"))\n",
              "        .catch(showError)\n",
              "        .then(() => displayChart(vegaEmbed));\n",
              "    }\n",
              "  })({\"config\": {\"view\": {\"continuousWidth\": 400, \"continuousHeight\": 300}}, \"data\": {\"name\": \"data-2d94771ea62125b445223a5fc16e2995\"}, \"mark\": \"circle\", \"encoding\": {\"color\": {\"field\": \"species\", \"type\": \"nominal\"}, \"x\": {\"field\": \"petal_length\", \"type\": \"quantitative\"}, \"y\": {\"field\": \"petal_width\", \"type\": \"quantitative\"}}, \"$schema\": \"https://vega.github.io/schema/vega-lite/v4.17.0.json\", \"datasets\": {\"data-2d94771ea62125b445223a5fc16e2995\": [{\"sepal_length\": 5.1, \"sepal_width\": 3.5, \"petal_length\": 1.4, \"petal_width\": 0.2, \"species\": \"Iris-setosa\"}, {\"sepal_length\": 4.9, \"sepal_width\": 3.0, \"petal_length\": 1.4, \"petal_width\": 0.2, \"species\": \"Iris-setosa\"}, {\"sepal_length\": 4.7, \"sepal_width\": 3.2, \"petal_length\": 1.3, \"petal_width\": 0.2, \"species\": \"Iris-setosa\"}, {\"sepal_length\": 4.6, \"sepal_width\": 3.1, \"petal_length\": 1.5, \"petal_width\": 0.2, \"species\": \"Iris-setosa\"}, {\"sepal_length\": 5.0, \"sepal_width\": 3.6, \"petal_length\": 1.4, \"petal_width\": 0.2, \"species\": \"Iris-setosa\"}, {\"sepal_length\": 5.4, \"sepal_width\": 3.9, \"petal_length\": 1.7, \"petal_width\": 0.4, \"species\": \"Iris-setosa\"}, {\"sepal_length\": 4.6, \"sepal_width\": 3.4, \"petal_length\": 1.4, \"petal_width\": 0.3, \"species\": \"Iris-setosa\"}, {\"sepal_length\": 5.0, \"sepal_width\": 3.4, \"petal_length\": 1.5, \"petal_width\": 0.2, \"species\": \"Iris-setosa\"}, {\"sepal_length\": 4.4, \"sepal_width\": 2.9, \"petal_length\": 1.4, \"petal_width\": 0.2, \"species\": \"Iris-setosa\"}, {\"sepal_length\": 4.9, \"sepal_width\": 3.1, \"petal_length\": 1.5, \"petal_width\": 0.1, \"species\": \"Iris-setosa\"}, {\"sepal_length\": 5.4, \"sepal_width\": 3.7, \"petal_length\": 1.5, \"petal_width\": 0.2, \"species\": \"Iris-setosa\"}, {\"sepal_length\": 4.8, \"sepal_width\": 3.4, \"petal_length\": 1.6, \"petal_width\": 0.2, \"species\": \"Iris-setosa\"}, {\"sepal_length\": 4.8, \"sepal_width\": 3.0, \"petal_length\": 1.4, \"petal_width\": 0.1, \"species\": \"Iris-setosa\"}, {\"sepal_length\": 4.3, \"sepal_width\": 3.0, \"petal_length\": 1.1, \"petal_width\": 0.1, \"species\": \"Iris-setosa\"}, {\"sepal_length\": 5.8, \"sepal_width\": 4.0, \"petal_length\": 1.2, \"petal_width\": 0.2, \"species\": \"Iris-setosa\"}, {\"sepal_length\": 5.7, \"sepal_width\": 4.4, \"petal_length\": 1.5, \"petal_width\": 0.4, \"species\": \"Iris-setosa\"}, {\"sepal_length\": 5.4, \"sepal_width\": 3.9, \"petal_length\": 1.3, \"petal_width\": 0.4, \"species\": \"Iris-setosa\"}, {\"sepal_length\": 5.1, \"sepal_width\": 3.5, \"petal_length\": 1.4, \"petal_width\": 0.3, \"species\": \"Iris-setosa\"}, {\"sepal_length\": 5.7, \"sepal_width\": 3.8, \"petal_length\": 1.7, \"petal_width\": 0.3, \"species\": \"Iris-setosa\"}, {\"sepal_length\": 5.1, \"sepal_width\": 3.8, \"petal_length\": 1.5, \"petal_width\": 0.3, \"species\": \"Iris-setosa\"}, {\"sepal_length\": 5.4, \"sepal_width\": 3.4, \"petal_length\": 1.7, \"petal_width\": 0.2, \"species\": \"Iris-setosa\"}, {\"sepal_length\": 5.1, \"sepal_width\": 3.7, \"petal_length\": 1.5, \"petal_width\": 0.4, \"species\": \"Iris-setosa\"}, {\"sepal_length\": 4.6, \"sepal_width\": 3.6, \"petal_length\": 1.0, \"petal_width\": 0.2, \"species\": \"Iris-setosa\"}, {\"sepal_length\": 5.1, \"sepal_width\": 3.3, \"petal_length\": 1.7, \"petal_width\": 0.5, \"species\": \"Iris-setosa\"}, {\"sepal_length\": 4.8, \"sepal_width\": 3.4, \"petal_length\": 1.9, \"petal_width\": 0.2, \"species\": \"Iris-setosa\"}, {\"sepal_length\": 5.0, \"sepal_width\": 3.0, \"petal_length\": 1.6, \"petal_width\": 0.2, \"species\": \"Iris-setosa\"}, {\"sepal_length\": 5.0, \"sepal_width\": 3.4, \"petal_length\": 1.6, \"petal_width\": 0.4, \"species\": \"Iris-setosa\"}, {\"sepal_length\": 5.2, \"sepal_width\": 3.5, \"petal_length\": 1.5, \"petal_width\": 0.2, \"species\": \"Iris-setosa\"}, {\"sepal_length\": 5.2, \"sepal_width\": 3.4, \"petal_length\": 1.4, \"petal_width\": 0.2, \"species\": \"Iris-setosa\"}, {\"sepal_length\": 4.7, \"sepal_width\": 3.2, \"petal_length\": 1.6, \"petal_width\": 0.2, \"species\": \"Iris-setosa\"}, {\"sepal_length\": 4.8, \"sepal_width\": 3.1, \"petal_length\": 1.6, \"petal_width\": 0.2, \"species\": \"Iris-setosa\"}, {\"sepal_length\": 5.4, \"sepal_width\": 3.4, \"petal_length\": 1.5, \"petal_width\": 0.4, \"species\": \"Iris-setosa\"}, {\"sepal_length\": 5.2, \"sepal_width\": 4.1, \"petal_length\": 1.5, \"petal_width\": 0.1, \"species\": \"Iris-setosa\"}, {\"sepal_length\": 5.5, \"sepal_width\": 4.2, \"petal_length\": 1.4, \"petal_width\": 0.2, \"species\": \"Iris-setosa\"}, {\"sepal_length\": 4.9, \"sepal_width\": 3.1, \"petal_length\": 1.5, \"petal_width\": 0.1, \"species\": \"Iris-setosa\"}, {\"sepal_length\": 5.0, \"sepal_width\": 3.2, \"petal_length\": 1.2, \"petal_width\": 0.2, \"species\": \"Iris-setosa\"}, {\"sepal_length\": 5.5, \"sepal_width\": 3.5, \"petal_length\": 1.3, \"petal_width\": 0.2, \"species\": \"Iris-setosa\"}, {\"sepal_length\": 4.9, \"sepal_width\": 3.1, \"petal_length\": 1.5, \"petal_width\": 0.1, \"species\": \"Iris-setosa\"}, {\"sepal_length\": 4.4, \"sepal_width\": 3.0, \"petal_length\": 1.3, \"petal_width\": 0.2, \"species\": \"Iris-setosa\"}, {\"sepal_length\": 5.1, \"sepal_width\": 3.4, \"petal_length\": 1.5, \"petal_width\": 0.2, \"species\": \"Iris-setosa\"}, {\"sepal_length\": 5.0, \"sepal_width\": 3.5, \"petal_length\": 1.3, \"petal_width\": 0.3, \"species\": \"Iris-setosa\"}, {\"sepal_length\": 4.5, \"sepal_width\": 2.3, \"petal_length\": 1.3, \"petal_width\": 0.3, \"species\": \"Iris-setosa\"}, {\"sepal_length\": 4.4, \"sepal_width\": 3.2, \"petal_length\": 1.3, \"petal_width\": 0.2, \"species\": \"Iris-setosa\"}, {\"sepal_length\": 5.0, \"sepal_width\": 3.5, \"petal_length\": 1.6, \"petal_width\": 0.6, \"species\": \"Iris-setosa\"}, {\"sepal_length\": 5.1, \"sepal_width\": 3.8, \"petal_length\": 1.9, \"petal_width\": 0.4, \"species\": \"Iris-setosa\"}, {\"sepal_length\": 4.8, \"sepal_width\": 3.0, \"petal_length\": 1.4, \"petal_width\": 0.3, \"species\": \"Iris-setosa\"}, {\"sepal_length\": 5.1, \"sepal_width\": 3.8, \"petal_length\": 1.6, \"petal_width\": 0.2, \"species\": \"Iris-setosa\"}, {\"sepal_length\": 4.6, \"sepal_width\": 3.2, \"petal_length\": 1.4, \"petal_width\": 0.2, \"species\": \"Iris-setosa\"}, {\"sepal_length\": 5.3, \"sepal_width\": 3.7, \"petal_length\": 1.5, \"petal_width\": 0.2, \"species\": \"Iris-setosa\"}, {\"sepal_length\": 5.0, \"sepal_width\": 3.3, \"petal_length\": 1.4, \"petal_width\": 0.2, \"species\": \"Iris-setosa\"}, {\"sepal_length\": 7.0, \"sepal_width\": 3.2, \"petal_length\": 4.7, \"petal_width\": 1.4, \"species\": \"Iris-versicolor\"}, {\"sepal_length\": 6.4, \"sepal_width\": 3.2, \"petal_length\": 4.5, \"petal_width\": 1.5, \"species\": \"Iris-versicolor\"}, {\"sepal_length\": 6.9, \"sepal_width\": 3.1, \"petal_length\": 4.9, \"petal_width\": 1.5, \"species\": \"Iris-versicolor\"}, {\"sepal_length\": 5.5, \"sepal_width\": 2.3, \"petal_length\": 4.0, \"petal_width\": 1.3, \"species\": \"Iris-versicolor\"}, {\"sepal_length\": 6.5, \"sepal_width\": 2.8, \"petal_length\": 4.6, \"petal_width\": 1.5, \"species\": \"Iris-versicolor\"}, {\"sepal_length\": 5.7, \"sepal_width\": 2.8, \"petal_length\": 4.5, \"petal_width\": 1.3, \"species\": \"Iris-versicolor\"}, {\"sepal_length\": 6.3, \"sepal_width\": 3.3, \"petal_length\": 4.7, \"petal_width\": 1.6, \"species\": \"Iris-versicolor\"}, {\"sepal_length\": 4.9, \"sepal_width\": 2.4, \"petal_length\": 3.3, \"petal_width\": 1.0, \"species\": \"Iris-versicolor\"}, {\"sepal_length\": 6.6, \"sepal_width\": 2.9, \"petal_length\": 4.6, \"petal_width\": 1.3, \"species\": \"Iris-versicolor\"}, {\"sepal_length\": 5.2, \"sepal_width\": 2.7, \"petal_length\": 3.9, \"petal_width\": 1.4, \"species\": \"Iris-versicolor\"}, {\"sepal_length\": 5.0, \"sepal_width\": 2.0, \"petal_length\": 3.5, \"petal_width\": 1.0, \"species\": \"Iris-versicolor\"}, {\"sepal_length\": 5.9, \"sepal_width\": 3.0, \"petal_length\": 4.2, \"petal_width\": 1.5, \"species\": \"Iris-versicolor\"}, {\"sepal_length\": 6.0, \"sepal_width\": 2.2, \"petal_length\": 4.0, \"petal_width\": 1.0, \"species\": \"Iris-versicolor\"}, {\"sepal_length\": 6.1, \"sepal_width\": 2.9, \"petal_length\": 4.7, \"petal_width\": 1.4, \"species\": \"Iris-versicolor\"}, {\"sepal_length\": 5.6, \"sepal_width\": 2.9, \"petal_length\": 3.6, \"petal_width\": 1.3, \"species\": \"Iris-versicolor\"}, {\"sepal_length\": 6.7, \"sepal_width\": 3.1, \"petal_length\": 4.4, \"petal_width\": 1.4, \"species\": \"Iris-versicolor\"}, {\"sepal_length\": 5.6, \"sepal_width\": 3.0, \"petal_length\": 4.5, \"petal_width\": 1.5, \"species\": \"Iris-versicolor\"}, {\"sepal_length\": 5.8, \"sepal_width\": 2.7, \"petal_length\": 4.1, \"petal_width\": 1.0, \"species\": \"Iris-versicolor\"}, {\"sepal_length\": 6.2, \"sepal_width\": 2.2, \"petal_length\": 4.5, \"petal_width\": 1.5, \"species\": \"Iris-versicolor\"}, {\"sepal_length\": 5.6, \"sepal_width\": 2.5, \"petal_length\": 3.9, \"petal_width\": 1.1, \"species\": \"Iris-versicolor\"}, {\"sepal_length\": 5.9, \"sepal_width\": 3.2, \"petal_length\": 4.8, \"petal_width\": 1.8, \"species\": \"Iris-versicolor\"}, {\"sepal_length\": 6.1, \"sepal_width\": 2.8, \"petal_length\": 4.0, \"petal_width\": 1.3, \"species\": \"Iris-versicolor\"}, {\"sepal_length\": 6.3, \"sepal_width\": 2.5, \"petal_length\": 4.9, \"petal_width\": 1.5, \"species\": \"Iris-versicolor\"}, {\"sepal_length\": 6.1, \"sepal_width\": 2.8, \"petal_length\": 4.7, \"petal_width\": 1.2, \"species\": \"Iris-versicolor\"}, {\"sepal_length\": 6.4, \"sepal_width\": 2.9, \"petal_length\": 4.3, \"petal_width\": 1.3, \"species\": \"Iris-versicolor\"}, {\"sepal_length\": 6.6, \"sepal_width\": 3.0, \"petal_length\": 4.4, \"petal_width\": 1.4, \"species\": \"Iris-versicolor\"}, {\"sepal_length\": 6.8, \"sepal_width\": 2.8, \"petal_length\": 4.8, \"petal_width\": 1.4, \"species\": \"Iris-versicolor\"}, {\"sepal_length\": 6.7, \"sepal_width\": 3.0, \"petal_length\": 5.0, \"petal_width\": 1.7, \"species\": \"Iris-versicolor\"}, {\"sepal_length\": 6.0, \"sepal_width\": 2.9, \"petal_length\": 4.5, \"petal_width\": 1.5, \"species\": \"Iris-versicolor\"}, {\"sepal_length\": 5.7, \"sepal_width\": 2.6, \"petal_length\": 3.5, \"petal_width\": 1.0, \"species\": \"Iris-versicolor\"}, {\"sepal_length\": 5.5, \"sepal_width\": 2.4, \"petal_length\": 3.8, \"petal_width\": 1.1, \"species\": \"Iris-versicolor\"}, {\"sepal_length\": 5.5, \"sepal_width\": 2.4, \"petal_length\": 3.7, \"petal_width\": 1.0, \"species\": \"Iris-versicolor\"}, {\"sepal_length\": 5.8, \"sepal_width\": 2.7, \"petal_length\": 3.9, \"petal_width\": 1.2, \"species\": \"Iris-versicolor\"}, {\"sepal_length\": 6.0, \"sepal_width\": 2.7, \"petal_length\": 5.1, \"petal_width\": 1.6, \"species\": \"Iris-versicolor\"}, {\"sepal_length\": 5.4, \"sepal_width\": 3.0, \"petal_length\": 4.5, \"petal_width\": 1.5, \"species\": \"Iris-versicolor\"}, {\"sepal_length\": 6.0, \"sepal_width\": 3.4, \"petal_length\": 4.5, \"petal_width\": 1.6, \"species\": \"Iris-versicolor\"}, {\"sepal_length\": 6.7, \"sepal_width\": 3.1, \"petal_length\": 4.7, \"petal_width\": 1.5, \"species\": \"Iris-versicolor\"}, {\"sepal_length\": 6.3, \"sepal_width\": 2.3, \"petal_length\": 4.4, \"petal_width\": 1.3, \"species\": \"Iris-versicolor\"}, {\"sepal_length\": 5.6, \"sepal_width\": 3.0, \"petal_length\": 4.1, \"petal_width\": 1.3, \"species\": \"Iris-versicolor\"}, {\"sepal_length\": 5.5, \"sepal_width\": 2.5, \"petal_length\": 4.0, \"petal_width\": 1.3, \"species\": \"Iris-versicolor\"}, {\"sepal_length\": 5.5, \"sepal_width\": 2.6, \"petal_length\": 4.4, \"petal_width\": 1.2, \"species\": \"Iris-versicolor\"}, {\"sepal_length\": 6.1, \"sepal_width\": 3.0, \"petal_length\": 4.6, \"petal_width\": 1.4, \"species\": \"Iris-versicolor\"}, {\"sepal_length\": 5.8, \"sepal_width\": 2.6, \"petal_length\": 4.0, \"petal_width\": 1.2, \"species\": \"Iris-versicolor\"}, {\"sepal_length\": 5.0, \"sepal_width\": 2.3, \"petal_length\": 3.3, \"petal_width\": 1.0, \"species\": \"Iris-versicolor\"}, {\"sepal_length\": 5.6, \"sepal_width\": 2.7, \"petal_length\": 4.2, \"petal_width\": 1.3, \"species\": \"Iris-versicolor\"}, {\"sepal_length\": 5.7, \"sepal_width\": 3.0, \"petal_length\": 4.2, \"petal_width\": 1.2, \"species\": \"Iris-versicolor\"}, {\"sepal_length\": 5.7, \"sepal_width\": 2.9, \"petal_length\": 4.2, \"petal_width\": 1.3, \"species\": \"Iris-versicolor\"}, {\"sepal_length\": 6.2, \"sepal_width\": 2.9, \"petal_length\": 4.3, \"petal_width\": 1.3, \"species\": \"Iris-versicolor\"}, {\"sepal_length\": 5.1, \"sepal_width\": 2.5, \"petal_length\": 3.0, \"petal_width\": 1.1, \"species\": \"Iris-versicolor\"}, {\"sepal_length\": 5.7, \"sepal_width\": 2.8, \"petal_length\": 4.1, \"petal_width\": 1.3, \"species\": \"Iris-versicolor\"}, {\"sepal_length\": 6.3, \"sepal_width\": 3.3, \"petal_length\": 6.0, \"petal_width\": 2.5, \"species\": \"Iris-virginica\"}, {\"sepal_length\": 5.8, \"sepal_width\": 2.7, \"petal_length\": 5.1, \"petal_width\": 1.9, \"species\": \"Iris-virginica\"}, {\"sepal_length\": 7.1, \"sepal_width\": 3.0, \"petal_length\": 5.9, \"petal_width\": 2.1, \"species\": \"Iris-virginica\"}, {\"sepal_length\": 6.3, \"sepal_width\": 2.9, \"petal_length\": 5.6, \"petal_width\": 1.8, \"species\": \"Iris-virginica\"}, {\"sepal_length\": 6.5, \"sepal_width\": 3.0, \"petal_length\": 5.8, \"petal_width\": 2.2, \"species\": \"Iris-virginica\"}, {\"sepal_length\": 7.6, \"sepal_width\": 3.0, \"petal_length\": 6.6, \"petal_width\": 2.1, \"species\": \"Iris-virginica\"}, {\"sepal_length\": 4.9, \"sepal_width\": 2.5, \"petal_length\": 4.5, \"petal_width\": 1.7, \"species\": \"Iris-virginica\"}, {\"sepal_length\": 7.3, \"sepal_width\": 2.9, \"petal_length\": 6.3, \"petal_width\": 1.8, \"species\": \"Iris-virginica\"}, {\"sepal_length\": 6.7, \"sepal_width\": 2.5, \"petal_length\": 5.8, \"petal_width\": 1.8, \"species\": \"Iris-virginica\"}, {\"sepal_length\": 7.2, \"sepal_width\": 3.6, \"petal_length\": 6.1, \"petal_width\": 2.5, \"species\": \"Iris-virginica\"}, {\"sepal_length\": 6.5, \"sepal_width\": 3.2, \"petal_length\": 5.1, \"petal_width\": 2.0, \"species\": \"Iris-virginica\"}, {\"sepal_length\": 6.4, \"sepal_width\": 2.7, \"petal_length\": 5.3, \"petal_width\": 1.9, \"species\": \"Iris-virginica\"}, {\"sepal_length\": 6.8, \"sepal_width\": 3.0, \"petal_length\": 5.5, \"petal_width\": 2.1, \"species\": \"Iris-virginica\"}, {\"sepal_length\": 5.7, \"sepal_width\": 2.5, \"petal_length\": 5.0, \"petal_width\": 2.0, \"species\": \"Iris-virginica\"}, {\"sepal_length\": 5.8, \"sepal_width\": 2.8, \"petal_length\": 5.1, \"petal_width\": 2.4, \"species\": \"Iris-virginica\"}, {\"sepal_length\": 6.4, \"sepal_width\": 3.2, \"petal_length\": 5.3, \"petal_width\": 2.3, \"species\": \"Iris-virginica\"}, {\"sepal_length\": 6.5, \"sepal_width\": 3.0, \"petal_length\": 5.5, \"petal_width\": 1.8, \"species\": \"Iris-virginica\"}, {\"sepal_length\": 7.7, \"sepal_width\": 3.8, \"petal_length\": 6.7, \"petal_width\": 2.2, \"species\": \"Iris-virginica\"}, {\"sepal_length\": 7.7, \"sepal_width\": 2.6, \"petal_length\": 6.9, \"petal_width\": 2.3, \"species\": \"Iris-virginica\"}, {\"sepal_length\": 6.0, \"sepal_width\": 2.2, \"petal_length\": 5.0, \"petal_width\": 1.5, \"species\": \"Iris-virginica\"}, {\"sepal_length\": 6.9, \"sepal_width\": 3.2, \"petal_length\": 5.7, \"petal_width\": 2.3, \"species\": \"Iris-virginica\"}, {\"sepal_length\": 5.6, \"sepal_width\": 2.8, \"petal_length\": 4.9, \"petal_width\": 2.0, \"species\": \"Iris-virginica\"}, {\"sepal_length\": 7.7, \"sepal_width\": 2.8, \"petal_length\": 6.7, \"petal_width\": 2.0, \"species\": \"Iris-virginica\"}, {\"sepal_length\": 6.3, \"sepal_width\": 2.7, \"petal_length\": 4.9, \"petal_width\": 1.8, \"species\": \"Iris-virginica\"}, {\"sepal_length\": 6.7, \"sepal_width\": 3.3, \"petal_length\": 5.7, \"petal_width\": 2.1, \"species\": \"Iris-virginica\"}, {\"sepal_length\": 7.2, \"sepal_width\": 3.2, \"petal_length\": 6.0, \"petal_width\": 1.8, \"species\": \"Iris-virginica\"}, {\"sepal_length\": 6.2, \"sepal_width\": 2.8, \"petal_length\": 4.8, \"petal_width\": 1.8, \"species\": \"Iris-virginica\"}, {\"sepal_length\": 6.1, \"sepal_width\": 3.0, \"petal_length\": 4.9, \"petal_width\": 1.8, \"species\": \"Iris-virginica\"}, {\"sepal_length\": 6.4, \"sepal_width\": 2.8, \"petal_length\": 5.6, \"petal_width\": 2.1, \"species\": \"Iris-virginica\"}, {\"sepal_length\": 7.2, \"sepal_width\": 3.0, \"petal_length\": 5.8, \"petal_width\": 1.6, \"species\": \"Iris-virginica\"}, {\"sepal_length\": 7.4, \"sepal_width\": 2.8, \"petal_length\": 6.1, \"petal_width\": 1.9, \"species\": \"Iris-virginica\"}, {\"sepal_length\": 7.9, \"sepal_width\": 3.8, \"petal_length\": 6.4, \"petal_width\": 2.0, \"species\": \"Iris-virginica\"}, {\"sepal_length\": 6.4, \"sepal_width\": 2.8, \"petal_length\": 5.6, \"petal_width\": 2.2, \"species\": \"Iris-virginica\"}, {\"sepal_length\": 6.3, \"sepal_width\": 2.8, \"petal_length\": 5.1, \"petal_width\": 1.5, \"species\": \"Iris-virginica\"}, {\"sepal_length\": 6.1, \"sepal_width\": 2.6, \"petal_length\": 5.6, \"petal_width\": 1.4, \"species\": \"Iris-virginica\"}, {\"sepal_length\": 7.7, \"sepal_width\": 3.0, \"petal_length\": 6.1, \"petal_width\": 2.3, \"species\": \"Iris-virginica\"}, {\"sepal_length\": 6.3, \"sepal_width\": 3.4, \"petal_length\": 5.6, \"petal_width\": 2.4, \"species\": \"Iris-virginica\"}, {\"sepal_length\": 6.4, \"sepal_width\": 3.1, \"petal_length\": 5.5, \"petal_width\": 1.8, \"species\": \"Iris-virginica\"}, {\"sepal_length\": 6.0, \"sepal_width\": 3.0, \"petal_length\": 4.8, \"petal_width\": 1.8, \"species\": \"Iris-virginica\"}, {\"sepal_length\": 6.9, \"sepal_width\": 3.1, \"petal_length\": 5.4, \"petal_width\": 2.1, \"species\": \"Iris-virginica\"}, {\"sepal_length\": 6.7, \"sepal_width\": 3.1, \"petal_length\": 5.6, \"petal_width\": 2.4, \"species\": \"Iris-virginica\"}, {\"sepal_length\": 6.9, \"sepal_width\": 3.1, \"petal_length\": 5.1, \"petal_width\": 2.3, \"species\": \"Iris-virginica\"}, {\"sepal_length\": 5.8, \"sepal_width\": 2.7, \"petal_length\": 5.1, \"petal_width\": 1.9, \"species\": \"Iris-virginica\"}, {\"sepal_length\": 6.8, \"sepal_width\": 3.2, \"petal_length\": 5.9, \"petal_width\": 2.3, \"species\": \"Iris-virginica\"}, {\"sepal_length\": 6.7, \"sepal_width\": 3.3, \"petal_length\": 5.7, \"petal_width\": 2.5, \"species\": \"Iris-virginica\"}, {\"sepal_length\": 6.7, \"sepal_width\": 3.0, \"petal_length\": 5.2, \"petal_width\": 2.3, \"species\": \"Iris-virginica\"}, {\"sepal_length\": 6.3, \"sepal_width\": 2.5, \"petal_length\": 5.0, \"petal_width\": 1.9, \"species\": \"Iris-virginica\"}, {\"sepal_length\": 6.5, \"sepal_width\": 3.0, \"petal_length\": 5.2, \"petal_width\": 2.0, \"species\": \"Iris-virginica\"}, {\"sepal_length\": 6.2, \"sepal_width\": 3.4, \"petal_length\": 5.4, \"petal_width\": 2.3, \"species\": \"Iris-virginica\"}, {\"sepal_length\": 5.9, \"sepal_width\": 3.0, \"petal_length\": 5.1, \"petal_width\": 1.8, \"species\": \"Iris-virginica\"}]}}, {\"mode\": \"vega-lite\"});\n",
              "</script>"
            ],
            "text/plain": [
              "alt.Chart(...)"
            ]
          },
          "execution_count": null,
          "metadata": {},
          "output_type": "execute_result"
        }
      ]
    },
    {
      "cell_type": "markdown",
      "metadata": {
        "id": "baCxzbklvRbu"
      },
      "source": [
        "## Part C: Prepare the Data for Machine Learning\n",
        "\n",
        "Data preparation (sometimes called \"data wrangling\" or \"data munging\") is where you'll usually spend the bulk of your time when working on machine learning problems. Only rarely is data already in the optimal form for a given algorithm.\n",
        "\n",
        "Often we have to deal with missing values, normalize the data, and perform both simple and complex feature engineering to get the data into the form we need. \n",
        "\n",
        "Once the data is in the correct form, we can then randomize the data and split it into training and test datasets (and sometimes an additional validation dataset).\n",
        "\n",
        "### Machine Learning Steps\n",
        "\n",
        "Almost universally, regardless of which algorithm or type of task we're performing, building and evaluating a machine learning model with sklearn follows these steps:\n",
        "\n",
        "1. Perform any data preprocessing needed.\n",
        "2. Partition the data into features and targets.\n",
        "3. Split the data into training and test sets (and sometimes a third validation set).\n",
        "4. Create a configure whichever sklearn model object we're using.\n",
        "5. Train the model using its \"fit\" method.\n",
        "6. Test the model using its \"predict\" method.\n",
        "7. Use a model evaluation metric to see how well the model performs.\n",
        "\n",
        "If the model isn't performing well, we will repeat one or more of the above steps (sometimes all of them).\n",
        "\n",
        "Once the model is performing adequately, we'll deploy it for use as part of some larger system. \n",
        "\n",
        "For now, let's assume that this dataset is in the form we need, and we'll skip to step 2, partitioning the data.\n"
      ]
    },
    {
      "cell_type": "code",
      "source": [
        "from sklearn import preprocessing"
      ],
      "metadata": {
        "id": "W8GgmDE3B7g5"
      },
      "execution_count": 6,
      "outputs": []
    },
    {
      "cell_type": "code",
      "source": [
        "train_norm = X_train[X_train.columns[0:10]]\n",
        "test_norm = X_test[X_test.columns[0:10]]"
      ],
      "metadata": {
        "id": "XxN6nCtTCBse",
        "outputId": "16dc5d5e-ff06-4f39-c0f9-8a3da66bfe49",
        "colab": {
          "base_uri": "https://localhost:8080/",
          "height": 189
        }
      },
      "execution_count": 7,
      "outputs": [
        {
          "ename": "NameError",
          "evalue": "ignored",
          "output_type": "error",
          "traceback": [
            "\u001b[0;31m---------------------------------------------------------------------------\u001b[0m",
            "\u001b[0;31mNameError\u001b[0m                                 Traceback (most recent call last)",
            "\u001b[0;32m<ipython-input-7-8afbdab0c04b>\u001b[0m in \u001b[0;36m<module>\u001b[0;34m()\u001b[0m\n\u001b[0;32m----> 1\u001b[0;31m \u001b[0mtrain_norm\u001b[0m \u001b[0;34m=\u001b[0m \u001b[0mX_train\u001b[0m\u001b[0;34m[\u001b[0m\u001b[0mX_train\u001b[0m\u001b[0;34m.\u001b[0m\u001b[0mcolumns\u001b[0m\u001b[0;34m[\u001b[0m\u001b[0;36m0\u001b[0m\u001b[0;34m:\u001b[0m\u001b[0;36m10\u001b[0m\u001b[0;34m]\u001b[0m\u001b[0;34m]\u001b[0m\u001b[0;34m\u001b[0m\u001b[0;34m\u001b[0m\u001b[0m\n\u001b[0m\u001b[1;32m      2\u001b[0m \u001b[0mtest_norm\u001b[0m \u001b[0;34m=\u001b[0m \u001b[0mX_test\u001b[0m\u001b[0;34m[\u001b[0m\u001b[0mX_test\u001b[0m\u001b[0;34m.\u001b[0m\u001b[0mcolumns\u001b[0m\u001b[0;34m[\u001b[0m\u001b[0;36m0\u001b[0m\u001b[0;34m:\u001b[0m\u001b[0;36m10\u001b[0m\u001b[0;34m]\u001b[0m\u001b[0;34m]\u001b[0m\u001b[0;34m\u001b[0m\u001b[0;34m\u001b[0m\u001b[0m\n",
            "\u001b[0;31mNameError\u001b[0m: name 'X_train' is not defined"
          ]
        }
      ]
    },
    {
      "cell_type": "code",
      "source": [
        "std_scale = preprocessing.StandardScaler().fit(train_norm)\n",
        "X_train_norm = std_scale.transform(train_norm)"
      ],
      "metadata": {
        "id": "qZRGDU4qCTue"
      },
      "execution_count": null,
      "outputs": []
    },
    {
      "cell_type": "markdown",
      "metadata": {
        "id": "zoMlhBCrw8qQ"
      },
      "source": [
        "### Step 2. Partition the Data into Features and Targets\n",
        "First, we'll create a dataframe called \"X\" containing the features of the data we want to use to make our predictions. In this case, that will be the `sepal_length`, `sepal_width`, `petal_length`, and `petal_width` features.\n",
        "\n",
        "(The name \"X\" isn't special, but uppercase X is the conventional name for our feature dataset, because that's what statisticians use to refer to a matrix of independent variables)"
      ]
    },
    {
      "cell_type": "code",
      "metadata": {
        "id": "JhIKMSFmnWD3"
      },
      "source": [
        "# Create a new dataframe called X that contians the features we're going\n",
        "# to use to make predictions\n",
        "X = iris.drop(columns=['species'])"
      ],
      "execution_count": null,
      "outputs": []
    },
    {
      "cell_type": "markdown",
      "metadata": {
        "id": "dTk_L5_Xw3VI"
      },
      "source": [
        "Next we'll create a dataframe called \"y\" containing the target variable, or the set of values we want to predict. In this case, that will be `species`.\n",
        "\n",
        "(Once again, the name \"y\" isn't special, but lowercase y is the conventional name for a list of targets, because that's what statisticians use to refer to a vector of dependent variables)"
      ]
    },
    {
      "cell_type": "code",
      "metadata": {
        "id": "5OiWdSVAnfdV"
      },
      "source": [
        "# Create a new dataframe called y that contians the target we're\n",
        "# trying to predict\n",
        "y = iris.species"
      ],
      "execution_count": null,
      "outputs": []
    },
    {
      "cell_type": "markdown",
      "metadata": {
        "id": "YmQUnia7xhxn"
      },
      "source": [
        "### Step 3. Split the data into training and test sets.\n",
        "\n",
        "Now that we have our data divided into features (X) and target values (y), we'll split each of these into a training set and a test set.\n",
        "\n",
        "We'll use the training sets to \"train\" our model how to make predictions.\n",
        "\n",
        "We'll then use our test sets to test how well our model has learned from the training data.\n",
        "\n",
        "While we could use a bunch of python code to do this step, the sklearn library has lots of built-in functions to handle common data manipulations related to machine learning.\n",
        "\n",
        "For this step, we'll use the [train_test_split()](https://scikit-learn.org/stable/modules/generated/sklearn.model_selection.train_test_split.html) function."
      ]
    },
    {
      "cell_type": "code",
      "source": [
        "from sklearn.model_selection import train_test_split"
      ],
      "metadata": {
        "id": "BYbVjXJV6Pzf"
      },
      "execution_count": null,
      "outputs": []
    },
    {
      "cell_type": "code",
      "metadata": {
        "id": "t2DlWt96ni10"
      },
      "source": [
        "# Import and use the train_test_split() function to split the X and y\n",
        "# dataframes into training and test sets.\n",
        "\n",
        "# The training data should contain 80% of the samples and\n",
        "# the test data should contain 20% of the samples.\n",
        "X_train_norm, X_test, y_train, y_test = train_test_split(X, y, train_size = .80, test_size = .20,random_state=42)"
      ],
      "execution_count": null,
      "outputs": []
    },
    {
      "cell_type": "markdown",
      "metadata": {
        "id": "Pf5w0Y1fypww"
      },
      "source": [
        "After creating the training and test splits, output the head() of each one and notice how they row numbers have been randomized. \n",
        "\n",
        "Also notice that X_train and y_train's row numbers match up, as do X_test and y_test's row numbers."
      ]
    },
    {
      "cell_type": "code",
      "metadata": {
        "id": "bycoj7HnyoNi"
      },
      "source": [
        "X_train.head()"
      ],
      "execution_count": null,
      "outputs": []
    },
    {
      "cell_type": "code",
      "source": [
        "X_test.head()"
      ],
      "metadata": {
        "id": "gwEr-Hmk6jq-"
      },
      "execution_count": null,
      "outputs": []
    },
    {
      "cell_type": "code",
      "metadata": {
        "id": "Mb7f5WiVnupq"
      },
      "source": [
        "y_test.head()"
      ],
      "execution_count": null,
      "outputs": []
    },
    {
      "cell_type": "code",
      "source": [
        "y_train.head()"
      ],
      "metadata": {
        "id": "TKhCpDn46r2s"
      },
      "execution_count": null,
      "outputs": []
    },
    {
      "cell_type": "markdown",
      "metadata": {
        "id": "WgB-4SIwy8LO"
      },
      "source": [
        "## Part D: Create and Train a Model\n",
        "\n",
        "We're going to create a model based on the k-Nearest Neighbors algorithm.\n",
        "\n",
        "Since this is a classification task, (we're trying to classify which species a given flower belongs to), we'll use sklearn's [KNeighborsClassifer](https://scikit-learn.org/stable/modules/generated/sklearn.neighbors.KNeighborsClassifier.html#sklearn.neighbors.KNeighborsClassifier)."
      ]
    },
    {
      "cell_type": "markdown",
      "metadata": {
        "id": "EjWBgtnB0L3i"
      },
      "source": [
        "### Step 4. Create and configure the model\n",
        "\n",
        "We start by importing the information about the model we want to create. In python, this information is called a _class_.\n",
        "\n",
        "The KNeighborsClassifier class contains all of the information python needs to create a kNN Classifier.\n",
        "\n",
        "Once we've imported the class, we'll create an _instance_ of the class using this syntax:\n",
        "\n",
        "    whatever = ClassName( parameter_one = value, parameter_two = something_else, etc...)\n",
        "\n",
        "In our case, the class name is `KNeighborsClassifer`. It doesn't matter what we call the variable that holds the instance, but one popular convention is to call classifier instances `clf`, so that's what you'll see in the sklearn documentation.\n",
        "\n",
        "The only parameter we want to configure is the `n_neighbors` parameter, which controls the value of `k` in the kNN algorithm."
      ]
    },
    {
      "cell_type": "code",
      "metadata": {
        "id": "KynXQXBRk-nL"
      },
      "source": [
        "# Import the KNeighborsClassifier class from sklearn\n",
        "# Note that it's in the neighbors submodule. See the example code in the\n",
        "# documentation for details on how to import it\n",
        "from sklearn.neighbors import KNeighborsClassifier"
      ],
      "execution_count": null,
      "outputs": []
    },
    {
      "cell_type": "code",
      "metadata": {
        "id": "PXGAiVEf04Wo"
      },
      "source": [
        "# Create an instance of the model, configuring it to use the 3 nearest neighbors\n",
        "# store the instance in a variable\n",
        "neigh = KNeighborsClassifier(n_neighbors=3)"
      ],
      "execution_count": null,
      "outputs": []
    },
    {
      "cell_type": "markdown",
      "metadata": {
        "id": "z4HPfa651GYz"
      },
      "source": [
        "### Step 5: Train the model\n",
        "\n",
        "Next we'll train the model. We do this by providing it with the training data we split off from the dataset in step 3. \n",
        "\n",
        "The model \"learns\" how to associate the feature values (X) with the targets (y). The exact process it uses to learn how to do this depends on which algorithm we're using. \n",
        "\n",
        "Sometimes, this is called \"fitting the data to the model\", so in sklearn, we perform this step using the [fit()](https://scikit-learn.org/stable/modules/generated/sklearn.neighbors.KNeighborsClassifier.html#sklearn.neighbors.KNeighborsClassifier.fit) method."
      ]
    },
    {
      "cell_type": "code",
      "metadata": {
        "id": "dizfrzOr1I8a"
      },
      "source": [
        "# Call the \"fit\" method of the classifier instance we created in step 4.\n",
        "# Pass it the X_train and y_train data so that it can learn to make predictions\n",
        "neigh.fit(X_train,y_train)"
      ],
      "execution_count": null,
      "outputs": []
    },
    {
      "cell_type": "markdown",
      "metadata": {
        "id": "VicDBl5Me_y4"
      },
      "source": [
        "## Part E: Make Predictions and Evaluate the Model\n",
        "\n",
        "Now that the model has been created and trained, we can use it to make predictions. Since this is a classification model, when we give it a set of features, it tells us what the most likely target value is.\n",
        "\n",
        "In this case, we tell the model \"here are the values for petal width, petal length, sepal width, and sepal length for a particular flower\" The model then tells us which species is the most likely for that flower.\n",
        "\n",
        "When testing how well our model works, we'll use the test data we split off earlier. It contains the measurements for several flowers, along with their species."
      ]
    },
    {
      "cell_type": "markdown",
      "metadata": {
        "id": "k9DzR_52ipq-"
      },
      "source": [
        "### Step 6: Make Predictions on Test Data\n",
        "\n",
        "We'll give the measurements of each flower to the model and have it predict their species. We'll then compare those predictions to the known values to determine how accurate our model is.\n",
        "\n",
        "Since this is a classification model, there are two different methods we can use to make predictions:\n",
        "\n",
        "- [predict()](https://scikit-learn.org/stable/modules/generated/sklearn.neighbors.KNeighborsClassifier.html#sklearn.neighbors.KNeighborsClassifier.predict), which returns the most likely prediction for each sample.\n",
        "\n",
        "- [predict_proba()](https://scikit-learn.org/stable/modules/generated/sklearn.neighbors.KNeighborsClassifier.html#sklearn.neighbors.KNeighborsClassifier.predict_proba) which returns a list of probabilities for each sample. The probabilities tell us how confident the model is that the corresponding sample belongs to a particular class."
      ]
    },
    {
      "cell_type": "code",
      "metadata": {
        "id": "Y1wzEojqoEn_"
      },
      "source": [
        "# Use the predict() method to get a list of predictions for the samples in our \n",
        "# test data. Then output those predictions\n",
        "y_predicted = neigh.predict(X_test)"
      ],
      "execution_count": null,
      "outputs": []
    },
    {
      "cell_type": "code",
      "metadata": {
        "id": "v8rNy7hxoNfu"
      },
      "source": [
        "# Just a quick comparison with y_test to see if they match up\n",
        "print(y_test)"
      ],
      "execution_count": null,
      "outputs": []
    },
    {
      "cell_type": "markdown",
      "metadata": {
        "id": "_YBap2t2igKT"
      },
      "source": [
        "### Step 7: Evaluate the Model\n",
        "\n",
        "There are several metrics we can use to determine how well our model is performing.\n",
        "\n",
        "Most of them are in the [sklearn.metrics library](https://scikit-learn.org/stable/modules/classes.html#sklearn-metrics-metrics).\n",
        "\n",
        "Most of the sklearn metric function work using the same pattern. We import the function, then give it a list of the true values for our test data, and a list of the values the model predicted for our test data. The metric then outputs the value. How we interpret that value will depend on the exact problem we're solving, the qualities of our data, and the particular metric we're using."
      ]
    },
    {
      "cell_type": "markdown",
      "metadata": {
        "id": "w-na7Ahwl6d2"
      },
      "source": [
        "#### Accuracy \n",
        "Since this is a multiclass classification problem (\"multiclass\" means we have more than two options we're choosing from), we can get a quick estimate from the [accuracy_score()](https://scikit-learn.org/stable/modules/generated/sklearn.metrics.accuracy_score.html#sklearn.metrics.accuracy_score) function, which tells us the percent of correct predictions made by the model."
      ]
    },
    {
      "cell_type": "code",
      "metadata": {
        "id": "ZndOJI6XoP46"
      },
      "source": [
        "# Import the accuracy_score function and use it to determine\n",
        "# how accurate the models predictions were for our test data\n",
        "from sklearn import metrics\n",
        "from sklearn.metrics import accuracy_score\n"
      ],
      "execution_count": null,
      "outputs": []
    },
    {
      "cell_type": "code",
      "source": [
        "metrics.accuracy_score(y_test,y_predicted)"
      ],
      "metadata": {
        "id": "wP8eaFln9sxP"
      },
      "execution_count": null,
      "outputs": []
    },
    {
      "cell_type": "markdown",
      "metadata": {
        "id": "VZh218e_kuqw"
      },
      "source": [
        "#### Confusion Matrix\n",
        "While the accuracy score tells us a little about the model's performance, it doesn't tell us much.\n",
        "\n",
        "For example, we know how often the model was correct, but we don't know when it was wrong or why.\n",
        "\n",
        "We can get this information from the [confusion_matrix](https://scikit-learn.org/stable/modules/generated/sklearn.metrics.confusion_matrix.html#sklearn.metrics.confusion_matrix) function."
      ]
    },
    {
      "cell_type": "code",
      "metadata": {
        "id": "oqyBO7NRpjjB"
      },
      "source": [
        "# Import the confusion_matrix function and use it to generate a confusion\n",
        "# matrix of our model results.\n",
        "from sklearn.metrics import confusion_matrix"
      ],
      "execution_count": null,
      "outputs": []
    },
    {
      "cell_type": "code",
      "source": [
        "confusion_matrix(y_test,y_predicted)"
      ],
      "metadata": {
        "id": "--FAHLUB-beN"
      },
      "execution_count": null,
      "outputs": []
    },
    {
      "cell_type": "markdown",
      "metadata": {
        "id": "A_bfx9e7lv9r"
      },
      "source": [
        "#### Confusion Matrix Plot\n",
        "\n",
        "It's easier to see the results of the confusion matrix if we plot the results. The easiest way to do this is with the [plot_confusion_matrix()](https://scikit-learn.org/stable/modules/generated/sklearn.metrics.plot_confusion_matrix.html) function. \n",
        "\n",
        "This function works a little bit differently than the others. It takes as parameters your model instance, and the X_test and y_test data frames, and outputs a confusion matrix showing how well the model did in predicting the target values. \n",
        "\n",
        "You'll notice that in many cases (including this one), the numbers in the confusion matrix will be the same as the results you see from the confusion_matrix() function above, but the plot makes it easier to interpret the results.\n",
        "\n",
        "When using the confusion matrix, you may find that the default color mapping is difficult to read. The \"Blues\" mapping is a popular choice."
      ]
    },
    {
      "cell_type": "code",
      "metadata": {
        "id": "6CuFoRyHp6fu"
      },
      "source": [
        "# Import the plot_confusion_matrix function and use it to plot the confusion\n",
        "# matrix for the test data.\n",
        "metrics.plot_confusion_matrix(neigh,X_test,y_test)"
      ],
      "execution_count": null,
      "outputs": []
    },
    {
      "cell_type": "markdown",
      "metadata": {
        "id": "IyrxIM5ZuBsJ"
      },
      "source": [
        "## 🌟 Above and Beyond 🌟\n",
        "\n",
        "Once you've complted the basics, try to complete one or more of the following tasks:\n",
        "\n",
        "1. See if you can get better results from your model through some data preprocessing, such as normaliation.\n",
        "\n",
        "2. Often, using too many features can give poor results. Can you get better performance using a subset of the features instead of all four?\n",
        "\n",
        "3. Are there other ways you could visualize your model results?"
      ]
    }
  ]
}