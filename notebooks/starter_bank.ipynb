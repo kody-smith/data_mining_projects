{
  "nbformat": 4,
  "nbformat_minor": 0,
  "metadata": {
    "colab": {
      "name": "starter_bank.ipynb",
      "provenance": [],
      "collapsed_sections": []
    },
    "kernelspec": {
      "name": "python3",
      "display_name": "Python 3"
    }
  },
  "cells": [
    {
      "cell_type": "code",
      "metadata": {
        "id": "mA0HPVmIBT4C"
      },
      "source": [
        "from dataclasses import dataclass\n",
        "import pandas as pd\n",
        "import pandas as pd\n",
        "import altair as alt\n",
        "import numpy as np\n",
        "import matplotlib.pyplot as plt\n",
        "from sklearn import tree\n",
        "\n",
        "from sklearn.model_selection import train_test_split\n",
        "from sklearn.tree import DecisionTreeClassifier\n",
        "from sklearn.ensemble import RandomForestClassifier\n",
        "from sklearn import metrics\n",
        "\n",
        "data = pd.read_csv('https://raw.githubusercontent.com/byui-cse/cse450-course/master/data/bank.csv')"
      ],
      "execution_count": 134,
      "outputs": []
    },
    {
      "cell_type": "code",
      "metadata": {
        "id": "StiU5QcPPxqQ"
      },
      "source": [
        "data.head()\n"
      ],
      "execution_count": null,
      "outputs": []
    },
    {
      "cell_type": "code",
      "metadata": {
        "id": "ALLMN63FPyEQ"
      },
      "source": [
        "target = (data.y == 'yes')\n",
        "raw_features = data.drop(['y', 'emp.var.rate', 'cons.price.idx', 'cons.conf.idx', 'euribor3m', 'nr.employed','pdays'],axis=1)\n",
        "features = pd.get_dummies(raw_features)"
      ],
      "execution_count": 187,
      "outputs": []
    },
    {
      "cell_type": "code",
      "metadata": {
        "id": "RnGBwGVZPyyh"
      },
      "source": [
        "features.head()"
      ],
      "execution_count": null,
      "outputs": []
    },
    {
      "cell_type": "code",
      "metadata": {
        "id": "CVSfaqgKPzE2"
      },
      "source": [
        "X_train,X_test,y_train,y_test = train_test_split(features,target,test_size=.20,train_size=.80,random_state=1000)"
      ],
      "execution_count": 188,
      "outputs": []
    },
    {
      "cell_type": "code",
      "source": [
        "clf = DecisionTreeClassifier(max_depth=7,criterion=\"entropy\")\n",
        "\n",
        "clf.fit(X_train,y_train)\n",
        "\n",
        "clf.score(X_test,y_test)\n",
        "\n",
        "y_predicted = clf.predict(X_test)\n",
        "#test accuracy\n",
        "metrics.accuracy_score(y_test, y_predicted)"
      ],
      "metadata": {
        "id": "nZeQ7dR3uYIP",
        "outputId": "842f7090-df62-4e8c-8f74-173ad3d7043e",
        "colab": {
          "base_uri": "https://localhost:8080/"
        }
      },
      "execution_count": 189,
      "outputs": [
        {
          "output_type": "execute_result",
          "data": {
            "text/plain": [
              "0.8965768390386016"
            ]
          },
          "metadata": {},
          "execution_count": 189
        }
      ]
    },
    {
      "cell_type": "code",
      "source": [
        "from pandas.core.common import random_state\n",
        "classifier_RF = RandomForestClassifier(n_estimators=120,max_depth=5,oob_score=True,random_state=20000)\n",
        "\n",
        "classifier_RF.fit(X_train,y_train)\n",
        "\n",
        "y_predicted_RF = classifier_RF.predict(X_test)\n",
        "#test accuracy\n",
        "metrics.accuracy_score(y_test, y_predicted_RF)\n"
      ],
      "metadata": {
        "id": "HEKnxt2w5lU-",
        "outputId": "a04b69dc-b333-487f-a076-74ac1ce7bbda",
        "colab": {
          "base_uri": "https://localhost:8080/"
        }
      },
      "execution_count": 190,
      "outputs": [
        {
          "output_type": "execute_result",
          "data": {
            "text/plain": [
              "0.8977907259043457"
            ]
          },
          "metadata": {},
          "execution_count": 190
        }
      ]
    },
    {
      "cell_type": "code",
      "source": [
        "print(metrics.classification_report(y_test,y_predicted))"
      ],
      "metadata": {
        "id": "nx-h2AY7urRf"
      },
      "execution_count": null,
      "outputs": []
    },
    {
      "cell_type": "code",
      "source": [
        "from sklearn.metrics._plot.confusion_matrix import plot_confusion_matrix\n",
        "confusion = plot_confusion_matrix(clf,X_test,y_test)"
      ],
      "metadata": {
        "id": "HxazqnGSvH-y"
      },
      "execution_count": null,
      "outputs": []
    },
    {
      "cell_type": "code",
      "source": [
        "fig, ax = plt.subplots(figsize=(85, 20))\n",
        "tree.plot_tree(clf, fontsize=15, feature_names=features.columns)\n",
        "plt.show()"
      ],
      "metadata": {
        "id": "SxSDlKv-wH1z"
      },
      "execution_count": null,
      "outputs": []
    },
    {
      "cell_type": "code",
      "source": [
        ""
      ],
      "metadata": {
        "id": "Wme56UAM3VT0"
      },
      "execution_count": null,
      "outputs": []
    },
    {
      "cell_type": "markdown",
      "source": [
        "Linear Discriminent\n"
      ],
      "metadata": {
        "id": "R0BlV_V3-NUb"
      }
    },
    {
      "cell_type": "code",
      "source": [
        "from sklearn.discriminant_analysis import LinearDiscriminantAnalysis"
      ],
      "metadata": {
        "id": "H-tBzCfm-bQA"
      },
      "execution_count": 192,
      "outputs": []
    },
    {
      "cell_type": "code",
      "source": [
        "clf_linear = LinearDiscriminantAnalysis()\n",
        "clf_linear.fit(X_train,y_train)\n",
        "y_predicted_LN = clf_linear.predict(X_test)\n",
        "print(metrics.classification_report(y_test,y_predicted_LN))"
      ],
      "metadata": {
        "id": "uF0QIgJU-gg4",
        "outputId": "7b96be54-4264-4511-8f08-2710e681300d",
        "colab": {
          "base_uri": "https://localhost:8080/"
        }
      },
      "execution_count": 195,
      "outputs": [
        {
          "output_type": "stream",
          "name": "stdout",
          "text": [
            "              precision    recall  f1-score   support\n",
            "\n",
            "       False       0.91      0.97      0.94      7320\n",
            "        True       0.53      0.27      0.36       918\n",
            "\n",
            "    accuracy                           0.89      8238\n",
            "   macro avg       0.72      0.62      0.65      8238\n",
            "weighted avg       0.87      0.89      0.88      8238\n",
            "\n"
          ]
        }
      ]
    }
  ]
}