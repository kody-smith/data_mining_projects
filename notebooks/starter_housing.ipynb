{
  "nbformat": 4,
  "nbformat_minor": 0,
  "metadata": {
    "colab": {
      "name": "starter_housing.ipynb",
      "provenance": [],
      "collapsed_sections": []
    },
    "kernelspec": {
      "name": "python3",
      "display_name": "Python 3"
    }
  },
  "cells": [
    {
      "cell_type": "markdown",
      "source": [
        "# Import packages"
      ],
      "metadata": {
        "id": "4Sf8FO5acgxz"
      }
    },
    {
      "cell_type": "code",
      "metadata": {
        "id": "mA0HPVmIBT4C"
      },
      "source": [
        "import pandas as pd\n",
        "import numpy as np\n",
        "from sklearn.ensemble import HistGradientBoostingRegressor\n",
        "import seaborn as sns\n",
        "import matplotlib.pyplot as plt\n",
        "from imblearn.over_sampling import RandomOverSampler\n",
        "from sklearn.model_selection import train_test_split\n",
        "from sklearn.inspection import permutation_importance\n",
        "from sklearn.metrics import mean_squared_error\n",
        "plt.style.use('seaborn')\n"
      ],
      "execution_count": 94,
      "outputs": []
    },
    {
      "cell_type": "markdown",
      "source": [
        "# Load File"
      ],
      "metadata": {
        "id": "kbDieMLxcnOe"
      }
    },
    {
      "cell_type": "code",
      "source": [
        "df = pd.read_csv('https://raw.githubusercontent.com/byui-cse/cse450-course/master/data/housing.csv')"
      ],
      "metadata": {
        "id": "7u0vYJMtRgiv"
      },
      "execution_count": 2,
      "outputs": []
    },
    {
      "cell_type": "markdown",
      "source": [
        "# Data Exploration"
      ],
      "metadata": {
        "id": "gov7haS4lJ6y"
      }
    },
    {
      "cell_type": "code",
      "source": [
        "df.yr_renovated.value_counts()"
      ],
      "metadata": {
        "id": "cqYZPRAdkucR",
        "outputId": "8a9c21ca-737a-40e0-fb8b-bee6e045c3df",
        "colab": {
          "base_uri": "https://localhost:8080/"
        }
      },
      "execution_count": 3,
      "outputs": [
        {
          "output_type": "execute_result",
          "data": {
            "text/plain": [
              "0       19171\n",
              "2014       86\n",
              "2005       34\n",
              "2003       34\n",
              "2013       33\n",
              "        ...  \n",
              "1934        1\n",
              "1951        1\n",
              "1948        1\n",
              "1954        1\n",
              "1956        1\n",
              "Name: yr_renovated, Length: 70, dtype: int64"
            ]
          },
          "metadata": {},
          "execution_count": 3
        }
      ]
    },
    {
      "cell_type": "code",
      "source": [
        "df.bedrooms.value_counts()"
      ],
      "metadata": {
        "id": "gwPlCbpVlaig",
        "outputId": "e91a585c-7005-4003-d61c-90b7f191770e",
        "colab": {
          "base_uri": "https://localhost:8080/"
        }
      },
      "execution_count": 4,
      "outputs": [
        {
          "output_type": "execute_result",
          "data": {
            "text/plain": [
              "3     9101\n",
              "4     6354\n",
              "2     2567\n",
              "5     1478\n",
              "6      251\n",
              "1      179\n",
              "7       36\n",
              "8       12\n",
              "0       11\n",
              "9        6\n",
              "10       3\n",
              "11       1\n",
              "33       1\n",
              "Name: bedrooms, dtype: int64"
            ]
          },
          "metadata": {},
          "execution_count": 4
        }
      ]
    },
    {
      "cell_type": "markdown",
      "source": [
        "# Pre-processing"
      ],
      "metadata": {
        "id": "b3YTVdAPeurA"
      }
    },
    {
      "cell_type": "code",
      "source": [
        "df = (df\n",
        "\n",
        "    .drop(labels = 'id', axis = 1)\n",
        "\n",
        "    .assign(date = lambda x: x.date.str.slice(start = 0, stop = 8)\n",
        "\n",
        "     , year = lambda x: x.date.str.slice(start=0, stop=4)\n",
        "\n",
        "     , month = lambda x: x.date.str.slice(start=4, stop = 6)\n",
        "\n",
        "     , day = lambda x: x.date.str.slice(start=6, stop= 8))\n",
        "\n",
        "    .drop(labels = 'date', axis = 1)\n",
        "\n",
        ")"
      ],
      "metadata": {
        "id": "iUbl7krfklR-"
      },
      "execution_count": 5,
      "outputs": []
    },
    {
      "cell_type": "code",
      "source": [
        "df['month'] = df['month'].astype(int)"
      ],
      "metadata": {
        "id": "-qKRHOTGoB4Y"
      },
      "execution_count": 6,
      "outputs": []
    },
    {
      "cell_type": "code",
      "source": [
        "df['day'] = df['day'].astype(int)"
      ],
      "metadata": {
        "id": "IrNMH9QToxb_"
      },
      "execution_count": 7,
      "outputs": []
    },
    {
      "cell_type": "code",
      "source": [
        "df['year'] = df['year'].astype(int)"
      ],
      "metadata": {
        "id": "Cw1SHKPTox5o"
      },
      "execution_count": 8,
      "outputs": []
    },
    {
      "cell_type": "code",
      "source": [
        "from sklearn.preprocessing import MinMaxScaler"
      ],
      "metadata": {
        "id": "IlYoLC1CqZMJ"
      },
      "execution_count": 9,
      "outputs": []
    },
    {
      "cell_type": "code",
      "source": [
        "df = df.assign(lat_normalized = MinMaxScaler().fit_transform(np.array(df.lat).reshape(-1,1)))\n"
      ],
      "metadata": {
        "id": "FZv3eH5vqrVA"
      },
      "execution_count": 10,
      "outputs": []
    },
    {
      "cell_type": "code",
      "source": [
        "Q1 = df.quantile(0.25)\n",
        "Q3 = df.quantile(0.90)\n",
        "IQR = Q3 - Q1\n"
      ],
      "metadata": {
        "id": "v_GN3fF0U_6R"
      },
      "execution_count": 11,
      "outputs": []
    },
    {
      "cell_type": "code",
      "source": [
        "df = df[~((df < (Q1 - 1.5 * IQR)) |(df > (Q3 + 1.5 * IQR))).any(axis=1)]\n",
        "df.shape"
      ],
      "metadata": {
        "colab": {
          "base_uri": "https://localhost:8080/"
        },
        "id": "ZMJUzLWLVTpJ",
        "outputId": "40112ea6-c154-40e8-c3af-d5414e7890d1"
      },
      "execution_count": 12,
      "outputs": [
        {
          "output_type": "execute_result",
          "data": {
            "text/plain": [
              "(15901, 23)"
            ]
          },
          "metadata": {},
          "execution_count": 12
        }
      ]
    },
    {
      "cell_type": "code",
      "source": [
        "import math\n",
        "\n",
        "def long_to_feet(long):\n",
        "\n",
        "  return long*288_200\n",
        "\n",
        "def lat_to_feet(lat):\n",
        "\n",
        "  return lat*364_000\n",
        "\n",
        "def distance(ax, ay):\n",
        "\n",
        "    #Put in the X & Y of two points to get the distance between them.\n",
        "\n",
        "    w = (long_to_feet(ax) - long_to_feet(-122.25734720828268)) / 5280\n",
        "\n",
        "    w2 = w * w\n",
        "\n",
        "    h = (lat_to_feet(47.61693898705242) - lat_to_feet(ay)) / 5280\n",
        "\n",
        "    h2 = h * h\n",
        "\n",
        "    # l = math.sqrt(h2 + w2)\n",
        "\n",
        "    l = (h2 + w2)**0.5\n",
        "\n",
        "    return l\n",
        "\n",
        "df = df.assign(\n",
        "\n",
        "    dist = lambda x: distance(x.long,x.lat)\n",
        "\n",
        ")"
      ],
      "metadata": {
        "id": "BZKxjjlueACY"
      },
      "execution_count": 13,
      "outputs": []
    },
    {
      "cell_type": "markdown",
      "source": [
        "# Model"
      ],
      "metadata": {
        "id": "D6YrctFXljkA"
      }
    },
    {
      "cell_type": "code",
      "source": [
        "target = df.price\n",
        "features = df.drop(columns=\"price\",axis=1)"
      ],
      "metadata": {
        "id": "qondF-Gcmfqf"
      },
      "execution_count": 14,
      "outputs": []
    },
    {
      "cell_type": "code",
      "source": [
        "X_train,X_test,y_train,y_test = train_test_split(features,target,test_size=.10,train_size=.90)"
      ],
      "metadata": {
        "id": "xj773rJCmOvR"
      },
      "execution_count": 15,
      "outputs": []
    },
    {
      "cell_type": "code",
      "source": [
        "est = HistGradientBoostingRegressor(max_bins=255, n_iter_no_change=20, max_depth=250, min_samples_leaf=20, max_leaf_nodes=20, max_iter=159, random_state=200000, learning_rate=0.125).fit(X_train, y_train)"
      ],
      "metadata": {
        "id": "bxSBbIbLQpIy"
      },
      "execution_count": 16,
      "outputs": []
    },
    {
      "cell_type": "code",
      "source": [
        "predictions_est = est.predict(X_test)\n",
        "# y_predicted_holdout = est.predict(new_data_holdout)\n"
      ],
      "metadata": {
        "id": "JQFcWF-_RF46"
      },
      "execution_count": 17,
      "outputs": []
    },
    {
      "cell_type": "code",
      "source": [
        "est.score(X_train, y_train)"
      ],
      "metadata": {
        "colab": {
          "base_uri": "https://localhost:8080/"
        },
        "id": "-PJBS7FuQ4Fj",
        "outputId": "2c50d961-95f0-4c8f-ea99-c722b7755920"
      },
      "execution_count": 18,
      "outputs": [
        {
          "output_type": "execute_result",
          "data": {
            "text/plain": [
              "0.9416795633961437"
            ]
          },
          "metadata": {},
          "execution_count": 18
        }
      ]
    },
    {
      "cell_type": "code",
      "source": [
        "result_est = mean_squared_error(y_test, predictions_est, squared=False)\n",
        "result_est"
      ],
      "metadata": {
        "colab": {
          "base_uri": "https://localhost:8080/"
        },
        "id": "DOAp0w_GQ80q",
        "outputId": "e058138c-c50d-4316-9091-e673dbe3f1e4"
      },
      "execution_count": 19,
      "outputs": [
        {
          "output_type": "execute_result",
          "data": {
            "text/plain": [
              "67712.94099980441"
            ]
          },
          "metadata": {},
          "execution_count": 19
        }
      ]
    },
    {
      "cell_type": "code",
      "source": [
        "import pickle\n",
        "\n",
        "s = pickle.dumps(est)\n",
        "\n",
        "clf = pickle.loads(s)"
      ],
      "metadata": {
        "id": "pT_J64cPYpSS"
      },
      "execution_count": 20,
      "outputs": []
    },
    {
      "cell_type": "code",
      "source": [
        "with open(\"Kody_classifier.txt\", \"wb\") as infile:\n",
        "  infile.write(s) "
      ],
      "metadata": {
        "id": "Rk9pTS2eZaDK"
      },
      "execution_count": 21,
      "outputs": []
    },
    {
      "cell_type": "code",
      "source": [
        "result = permutation_importance(\n",
        "    est, X_test, y_test, n_repeats=10, random_state=42, n_jobs=2\n",
        ")\n",
        "sorted_idx = result.importances_mean.argsort()\n",
        "plt.subplot(1, 2, 2)\n",
        "plt.boxplot(\n",
        "    result.importances[sorted_idx].T,\n",
        "    vert=False,\n",
        "    labels=np.array(df.columns)[sorted_idx],\n",
        ")\n",
        "plt.title(\"Permutation Importance (test set)\")\n",
        "\n",
        "plt.show()"
      ],
      "metadata": {
        "id": "i9oFR24wihr-"
      },
      "execution_count": null,
      "outputs": []
    },
    {
      "cell_type": "code",
      "source": [
        "print(result.importances_mean)"
      ],
      "metadata": {
        "id": "Zum6JPEmOto1"
      },
      "execution_count": null,
      "outputs": []
    },
    {
      "cell_type": "code",
      "source": [
        "d = {'importance': result.importances_mean, 'features': np.array(df.columns)[sorted_idx]}"
      ],
      "metadata": {
        "id": "znHni4YSNT23"
      },
      "execution_count": 127,
      "outputs": []
    },
    {
      "cell_type": "code",
      "source": [
        "feat_df = pd.DataFrame(data=d)"
      ],
      "metadata": {
        "id": "mmh_kF50M8KL"
      },
      "execution_count": 128,
      "outputs": []
    },
    {
      "cell_type": "code",
      "source": [
        "(alt.Chart(feat_df).mark_bar()\n",
        "  .encode(x=alt.X(\"features\",sort=\"-y\",\n",
        "                  scale=alt.Scale(domain=([\"sqft_living\",\"view\",\"lat\",\"year\",\"sqft_above\",\"day\",\"zipcode\",\"sqft_lot15\",\"yr_built\",\"bathrooms\",\"long\",\"condition\"]))),\n",
        "          y=alt.Y(\"importance\",scale=alt.Scale(domain=(0,0.45)))))"
      ],
      "metadata": {
        "id": "IeUNLP7YNqGy",
        "outputId": "245e3a24-2f5a-4b3e-e7cb-aff6a3d9864c",
        "colab": {
          "base_uri": "https://localhost:8080/",
          "height": 407
        }
      },
      "execution_count": 144,
      "outputs": [
        {
          "output_type": "execute_result",
          "data": {
            "text/plain": [
              "alt.Chart(...)"
            ],
            "text/html": [
              "\n",
              "<div id=\"altair-viz-fb87781d589141ce815503cfd141a44a\"></div>\n",
              "<script type=\"text/javascript\">\n",
              "  var VEGA_DEBUG = (typeof VEGA_DEBUG == \"undefined\") ? {} : VEGA_DEBUG;\n",
              "  (function(spec, embedOpt){\n",
              "    let outputDiv = document.currentScript.previousElementSibling;\n",
              "    if (outputDiv.id !== \"altair-viz-fb87781d589141ce815503cfd141a44a\") {\n",
              "      outputDiv = document.getElementById(\"altair-viz-fb87781d589141ce815503cfd141a44a\");\n",
              "    }\n",
              "    const paths = {\n",
              "      \"vega\": \"https://cdn.jsdelivr.net/npm//vega@5?noext\",\n",
              "      \"vega-lib\": \"https://cdn.jsdelivr.net/npm//vega-lib?noext\",\n",
              "      \"vega-lite\": \"https://cdn.jsdelivr.net/npm//vega-lite@4.17.0?noext\",\n",
              "      \"vega-embed\": \"https://cdn.jsdelivr.net/npm//vega-embed@6?noext\",\n",
              "    };\n",
              "\n",
              "    function maybeLoadScript(lib, version) {\n",
              "      var key = `${lib.replace(\"-\", \"\")}_version`;\n",
              "      return (VEGA_DEBUG[key] == version) ?\n",
              "        Promise.resolve(paths[lib]) :\n",
              "        new Promise(function(resolve, reject) {\n",
              "          var s = document.createElement('script');\n",
              "          document.getElementsByTagName(\"head\")[0].appendChild(s);\n",
              "          s.async = true;\n",
              "          s.onload = () => {\n",
              "            VEGA_DEBUG[key] = version;\n",
              "            return resolve(paths[lib]);\n",
              "          };\n",
              "          s.onerror = () => reject(`Error loading script: ${paths[lib]}`);\n",
              "          s.src = paths[lib];\n",
              "        });\n",
              "    }\n",
              "\n",
              "    function showError(err) {\n",
              "      outputDiv.innerHTML = `<div class=\"error\" style=\"color:red;\">${err}</div>`;\n",
              "      throw err;\n",
              "    }\n",
              "\n",
              "    function displayChart(vegaEmbed) {\n",
              "      vegaEmbed(outputDiv, spec, embedOpt)\n",
              "        .catch(err => showError(`Javascript Error: ${err.message}<br>This usually means there's a typo in your chart specification. See the javascript console for the full traceback.`));\n",
              "    }\n",
              "\n",
              "    if(typeof define === \"function\" && define.amd) {\n",
              "      requirejs.config({paths});\n",
              "      require([\"vega-embed\"], displayChart, err => showError(`Error loading script: ${err.message}`));\n",
              "    } else {\n",
              "      maybeLoadScript(\"vega\", \"5\")\n",
              "        .then(() => maybeLoadScript(\"vega-lite\", \"4.17.0\"))\n",
              "        .then(() => maybeLoadScript(\"vega-embed\", \"6\"))\n",
              "        .catch(showError)\n",
              "        .then(() => displayChart(vegaEmbed));\n",
              "    }\n",
              "  })({\"config\": {\"view\": {\"continuousWidth\": 400, \"continuousHeight\": 300}}, \"data\": {\"name\": \"data-3de2e39c7d046f1c34e8957ce898274b\"}, \"mark\": \"bar\", \"encoding\": {\"x\": {\"field\": \"features\", \"scale\": {\"domain\": [\"sqft_living\", \"view\", \"lat\", \"year\", \"sqft_above\", \"day\", \"zipcode\", \"sqft_lot15\", \"yr_built\", \"bathrooms\", \"long\", \"condition\"]}, \"sort\": \"-y\", \"type\": \"nominal\"}, \"y\": {\"field\": \"importance\", \"scale\": {\"domain\": [0, 0.45]}, \"type\": \"quantitative\"}}, \"$schema\": \"https://vega.github.io/schema/vega-lite/v4.17.0.json\", \"datasets\": {\"data-3de2e39c7d046f1c34e8957ce898274b\": [{\"importance\": 0.0015801977832805125, \"features\": \"month\"}, {\"importance\": 0.0020037416684381415, \"features\": \"waterfront\"}, {\"importance\": 0.21152995573665914, \"features\": \"view\"}, {\"importance\": 0.03283858847386868, \"features\": \"day\"}, {\"importance\": 0.000742527263968118, \"features\": \"yr_renovated\"}, {\"importance\": 0.0, \"features\": \"floors\"}, {\"importance\": 0.0, \"features\": \"bedrooms\"}, {\"importance\": 0.01101246187325755, \"features\": \"bathrooms\"}, {\"importance\": 0.12633788035813134, \"features\": \"year\"}, {\"importance\": 0.023597994337729522, \"features\": \"sqft_lot15\"}, {\"importance\": 0.0027814332163742074, \"features\": \"sqft_basement\"}, {\"importance\": 0.026874641526948784, \"features\": \"zipcode\"}, {\"importance\": 0.0, \"features\": \"price\"}, {\"importance\": 0.008178946962701716, \"features\": \"condition\"}, {\"importance\": 0.4298685694947821, \"features\": \"sqft_living15\"}, {\"importance\": 0.03901238666413366, \"features\": \"sqft_above\"}, {\"importance\": 0.01860377695911216, \"features\": \"yr_built\"}, {\"importance\": 0.00231765952415981, \"features\": \"sqft_lot\"}, {\"importance\": 0.010603644353716201, \"features\": \"long\"}, {\"importance\": 0.0022127567219090705, \"features\": \"grade\"}, {\"importance\": -0.0004007435060148112, \"features\": \"lat_normalized\"}, {\"importance\": 0.0, \"features\": \"sqft_living\"}, {\"importance\": 0.16771480914470596, \"features\": \"lat\"}]}}, {\"mode\": \"vega-lite\"});\n",
              "</script>"
            ]
          },
          "metadata": {},
          "execution_count": 144
        }
      ]
    },
    {
      "cell_type": "code",
      "source": [
        "import altair as alt\n",
        "from tqdm import tqdm"
      ],
      "metadata": {
        "id": "wxyr5rhiEu9d"
      },
      "execution_count": 50,
      "outputs": []
    },
    {
      "cell_type": "code",
      "source": [
        "feat_imp_diz = permutation_importance(\n",
        "    est, X_test, y_test, n_repeats=10, random_state=42, n_jobs=2)\n",
        "\n",
        "feat_imp_mean = result.importances_mean\n",
        "feat_imp_std = result.importances_std\n",
        "\n",
        "feat_imp_mean = pd.Series(feat_imp_mean)\n",
        "feat_imp_std = pd.Series(feat_imp_std)\n",
        "\n",
        "order = feat_imp_mean.sort_values(ascending=False).index\n",
        "feat_imp_mean = feat_imp_mean[order]\n",
        "feat_imp_std = feat_imp_std[order]"
      ],
      "metadata": {
        "id": "hJ4NvnuvF1Ds"
      },
      "execution_count": 58,
      "outputs": []
    },
    {
      "cell_type": "code",
      "source": [
        "sorted_idx = result.importances_mean.argsort()"
      ],
      "metadata": {
        "id": "U1IDNhcVIPmV"
      },
      "execution_count": 61,
      "outputs": []
    },
    {
      "cell_type": "code",
      "source": [
        "fig, ax = plt.subplots()\n",
        "\n",
        "hbars = ax.barh(feat_imp_mean, xerr=feat_imp_std, align='center',width=.5)\n",
        "ax.set_yticks(feat_imp_mean, label=sorted_idx)\n",
        "ax.invert_yaxis()  # labels read top-to-bottom\n",
        "ax.set_xlabel('Performance')\n",
        "ax.set_title('How fast do you want to go today?')\n",
        "\n",
        "# Label with specially formatted floats\n",
        "ax.bar_label(hbars, fmt='%.2f')\n",
        "ax.set_xlim(right=15)  # adjust xlim to fit labels\n",
        "\n",
        "plt.show()"
      ],
      "metadata": {
        "id": "F1KfYlfqFxJ3",
        "outputId": "0a4cd938-c445-4429-e836-13472ba23083",
        "colab": {
          "base_uri": "https://localhost:8080/",
          "height": 710
        }
      },
      "execution_count": 103,
      "outputs": [
        {
          "output_type": "error",
          "ename": "TypeError",
          "evalue": "ignored",
          "traceback": [
            "\u001b[0;31m---------------------------------------------------------------------------\u001b[0m",
            "\u001b[0;31mTypeError\u001b[0m                                 Traceback (most recent call last)",
            "\u001b[0;32m<ipython-input-103-c1aaf670ca95>\u001b[0m in \u001b[0;36m<module>\u001b[0;34m()\u001b[0m\n\u001b[1;32m      2\u001b[0m \u001b[0;34m\u001b[0m\u001b[0m\n\u001b[1;32m      3\u001b[0m \u001b[0mhbars\u001b[0m \u001b[0;34m=\u001b[0m \u001b[0max\u001b[0m\u001b[0;34m.\u001b[0m\u001b[0mbarh\u001b[0m\u001b[0;34m(\u001b[0m\u001b[0mfeat_imp_mean\u001b[0m\u001b[0;34m,\u001b[0m \u001b[0mxerr\u001b[0m\u001b[0;34m=\u001b[0m\u001b[0mfeat_imp_std\u001b[0m\u001b[0;34m,\u001b[0m \u001b[0malign\u001b[0m\u001b[0;34m=\u001b[0m\u001b[0;34m'center'\u001b[0m\u001b[0;34m,\u001b[0m\u001b[0mwidth\u001b[0m\u001b[0;34m=\u001b[0m\u001b[0;36m.5\u001b[0m\u001b[0;34m)\u001b[0m\u001b[0;34m\u001b[0m\u001b[0;34m\u001b[0m\u001b[0m\n\u001b[0;32m----> 4\u001b[0;31m \u001b[0max\u001b[0m\u001b[0;34m.\u001b[0m\u001b[0mset_yticks\u001b[0m\u001b[0;34m(\u001b[0m\u001b[0mfeat_imp_mean\u001b[0m\u001b[0;34m,\u001b[0m \u001b[0mlabel\u001b[0m\u001b[0;34m=\u001b[0m\u001b[0msorted_idx\u001b[0m\u001b[0;34m)\u001b[0m\u001b[0;34m\u001b[0m\u001b[0;34m\u001b[0m\u001b[0m\n\u001b[0m\u001b[1;32m      5\u001b[0m \u001b[0max\u001b[0m\u001b[0;34m.\u001b[0m\u001b[0minvert_yaxis\u001b[0m\u001b[0;34m(\u001b[0m\u001b[0;34m)\u001b[0m  \u001b[0;31m# labels read top-to-bottom\u001b[0m\u001b[0;34m\u001b[0m\u001b[0;34m\u001b[0m\u001b[0m\n\u001b[1;32m      6\u001b[0m \u001b[0max\u001b[0m\u001b[0;34m.\u001b[0m\u001b[0mset_xlabel\u001b[0m\u001b[0;34m(\u001b[0m\u001b[0;34m'Performance'\u001b[0m\u001b[0;34m)\u001b[0m\u001b[0;34m\u001b[0m\u001b[0;34m\u001b[0m\u001b[0m\n",
            "\u001b[0;32m/usr/local/lib/python3.7/dist-packages/matplotlib/cbook/deprecation.py\u001b[0m in \u001b[0;36mwrapper\u001b[0;34m(*args, **kwargs)\u001b[0m\n\u001b[1;32m    391\u001b[0m     \u001b[0;34m@\u001b[0m\u001b[0mfunctools\u001b[0m\u001b[0;34m.\u001b[0m\u001b[0mwraps\u001b[0m\u001b[0;34m(\u001b[0m\u001b[0mfunc\u001b[0m\u001b[0;34m)\u001b[0m\u001b[0;34m\u001b[0m\u001b[0;34m\u001b[0m\u001b[0m\n\u001b[1;32m    392\u001b[0m     \u001b[0;32mdef\u001b[0m \u001b[0mwrapper\u001b[0m\u001b[0;34m(\u001b[0m\u001b[0;34m*\u001b[0m\u001b[0margs\u001b[0m\u001b[0;34m,\u001b[0m \u001b[0;34m**\u001b[0m\u001b[0mkwargs\u001b[0m\u001b[0;34m)\u001b[0m\u001b[0;34m:\u001b[0m\u001b[0;34m\u001b[0m\u001b[0;34m\u001b[0m\u001b[0m\n\u001b[0;32m--> 393\u001b[0;31m         \u001b[0mbound\u001b[0m \u001b[0;34m=\u001b[0m \u001b[0msignature\u001b[0m\u001b[0;34m.\u001b[0m\u001b[0mbind\u001b[0m\u001b[0;34m(\u001b[0m\u001b[0;34m*\u001b[0m\u001b[0margs\u001b[0m\u001b[0;34m,\u001b[0m \u001b[0;34m**\u001b[0m\u001b[0mkwargs\u001b[0m\u001b[0;34m)\u001b[0m\u001b[0;34m\u001b[0m\u001b[0;34m\u001b[0m\u001b[0m\n\u001b[0m\u001b[1;32m    394\u001b[0m         \u001b[0;32mif\u001b[0m \u001b[0mname\u001b[0m \u001b[0;32min\u001b[0m \u001b[0mbound\u001b[0m\u001b[0;34m.\u001b[0m\u001b[0marguments\u001b[0m \u001b[0;32mand\u001b[0m \u001b[0mname\u001b[0m \u001b[0;32mnot\u001b[0m \u001b[0;32min\u001b[0m \u001b[0mkwargs\u001b[0m\u001b[0;34m:\u001b[0m\u001b[0;34m\u001b[0m\u001b[0;34m\u001b[0m\u001b[0m\n\u001b[1;32m    395\u001b[0m             warn_deprecated(\n",
            "\u001b[0;32m/usr/lib/python3.7/inspect.py\u001b[0m in \u001b[0;36mbind\u001b[0;34m(*args, **kwargs)\u001b[0m\n\u001b[1;32m   3013\u001b[0m         \u001b[0;32mif\u001b[0m \u001b[0mthe\u001b[0m \u001b[0mpassed\u001b[0m \u001b[0marguments\u001b[0m \u001b[0mcan\u001b[0m \u001b[0;32mnot\u001b[0m \u001b[0mbe\u001b[0m \u001b[0mbound\u001b[0m\u001b[0;34m.\u001b[0m\u001b[0;34m\u001b[0m\u001b[0;34m\u001b[0m\u001b[0m\n\u001b[1;32m   3014\u001b[0m         \"\"\"\n\u001b[0;32m-> 3015\u001b[0;31m         \u001b[0;32mreturn\u001b[0m \u001b[0margs\u001b[0m\u001b[0;34m[\u001b[0m\u001b[0;36m0\u001b[0m\u001b[0;34m]\u001b[0m\u001b[0;34m.\u001b[0m\u001b[0m_bind\u001b[0m\u001b[0;34m(\u001b[0m\u001b[0margs\u001b[0m\u001b[0;34m[\u001b[0m\u001b[0;36m1\u001b[0m\u001b[0;34m:\u001b[0m\u001b[0;34m]\u001b[0m\u001b[0;34m,\u001b[0m \u001b[0mkwargs\u001b[0m\u001b[0;34m)\u001b[0m\u001b[0;34m\u001b[0m\u001b[0;34m\u001b[0m\u001b[0m\n\u001b[0m\u001b[1;32m   3016\u001b[0m \u001b[0;34m\u001b[0m\u001b[0m\n\u001b[1;32m   3017\u001b[0m     \u001b[0;32mdef\u001b[0m \u001b[0mbind_partial\u001b[0m\u001b[0;34m(\u001b[0m\u001b[0;34m*\u001b[0m\u001b[0margs\u001b[0m\u001b[0;34m,\u001b[0m \u001b[0;34m**\u001b[0m\u001b[0mkwargs\u001b[0m\u001b[0;34m)\u001b[0m\u001b[0;34m:\u001b[0m\u001b[0;34m\u001b[0m\u001b[0;34m\u001b[0m\u001b[0m\n",
            "\u001b[0;32m/usr/lib/python3.7/inspect.py\u001b[0m in \u001b[0;36m_bind\u001b[0;34m(self, args, kwargs, partial)\u001b[0m\n\u001b[1;32m   3004\u001b[0m                 raise TypeError(\n\u001b[1;32m   3005\u001b[0m                     'got an unexpected keyword argument {arg!r}'.format(\n\u001b[0;32m-> 3006\u001b[0;31m                         arg=next(iter(kwargs))))\n\u001b[0m\u001b[1;32m   3007\u001b[0m \u001b[0;34m\u001b[0m\u001b[0m\n\u001b[1;32m   3008\u001b[0m         \u001b[0;32mreturn\u001b[0m \u001b[0mself\u001b[0m\u001b[0;34m.\u001b[0m\u001b[0m_bound_arguments_cls\u001b[0m\u001b[0;34m(\u001b[0m\u001b[0mself\u001b[0m\u001b[0;34m,\u001b[0m \u001b[0marguments\u001b[0m\u001b[0;34m)\u001b[0m\u001b[0;34m\u001b[0m\u001b[0;34m\u001b[0m\u001b[0m\n",
            "\u001b[0;31mTypeError\u001b[0m: got an unexpected keyword argument 'label'"
          ]
        },
        {
          "output_type": "display_data",
          "data": {
            "image/png": "[encoded data removed]",
            "text/plain": [
              "<Figure size 576x396 with 1 Axes>"
            ]
          },
          "metadata": {}
        }
      ]
    },
    {
      "cell_type": "code",
      "source": [
        "print(result)"
      ],
      "metadata": {
        "id": "8C4Uk3ZgA6sj",
        "outputId": "26ba63e0-4b15-4998-aee1-3687e5b0763f",
        "colab": {
          "base_uri": "https://localhost:8080/"
        }
      },
      "execution_count": 23,
      "outputs": [
        {
          "output_type": "stream",
          "name": "stdout",
          "text": [
            "{'importances_mean': array([ 1.58019778e-03,  2.00374167e-03,  2.11529956e-01,  3.28385885e-02,\n",
            "        7.42527264e-04,  0.00000000e+00,  0.00000000e+00,  1.10124619e-02,\n",
            "        1.26337880e-01,  2.35979943e-02,  2.78143322e-03,  2.68746415e-02,\n",
            "        0.00000000e+00,  8.17894696e-03,  4.29868569e-01,  3.90123867e-02,\n",
            "        1.86037770e-02,  2.31765952e-03,  1.06036444e-02,  2.21275672e-03,\n",
            "       -4.00743506e-04,  0.00000000e+00,  1.67714809e-01]), 'importances_std': array([0.00036821, 0.00046693, 0.00735942, 0.00214648, 0.00027755,\n",
            "       0.        , 0.        , 0.00181514, 0.00456278, 0.00305281,\n",
            "       0.0007977 , 0.00262183, 0.        , 0.00090158, 0.01266333,\n",
            "       0.00430914, 0.0016132 , 0.00096184, 0.00178507, 0.00075005,\n",
            "       0.00046492, 0.        , 0.00941184]), 'importances': array([[ 1.25059156e-03,  1.55797011e-03,  2.03700870e-03,\n",
            "         1.17752637e-03,  1.42413045e-03,  1.50593027e-03,\n",
            "         1.25297918e-03,  2.42957887e-03,  1.67636547e-03,\n",
            "         1.48989685e-03],\n",
            "       [ 2.49733632e-03,  2.14514929e-03,  1.81996933e-03,\n",
            "         1.39857940e-03,  2.84371194e-03,  1.99084687e-03,\n",
            "         2.52396548e-03,  1.60022239e-03,  1.42781434e-03,\n",
            "         1.78982133e-03],\n",
            "       [ 2.18169355e-01,  2.13810720e-01,  2.13345234e-01,\n",
            "         1.92152656e-01,  2.13578627e-01,  2.09533508e-01,\n",
            "         2.13114080e-01,  2.20990884e-01,  2.08028939e-01,\n",
            "         2.12575553e-01],\n",
            "       [ 3.13391275e-02,  3.16254226e-02,  3.27306681e-02,\n",
            "         3.29301957e-02,  3.32400093e-02,  3.53482848e-02,\n",
            "         2.80686217e-02,  3.28934872e-02,  3.62976180e-02,\n",
            "         3.39124497e-02],\n",
            "       [ 1.27017984e-03,  4.37989723e-04,  5.83708826e-04,\n",
            "         5.09081437e-04,  6.07390448e-04,  1.02305877e-03,\n",
            "         9.67957633e-04,  9.90080934e-04,  5.86732103e-04,\n",
            "         4.49092928e-04],\n",
            "       [ 0.00000000e+00,  0.00000000e+00,  0.00000000e+00,\n",
            "         0.00000000e+00,  0.00000000e+00,  0.00000000e+00,\n",
            "         0.00000000e+00,  0.00000000e+00,  0.00000000e+00,\n",
            "         0.00000000e+00],\n",
            "       [ 0.00000000e+00,  0.00000000e+00,  0.00000000e+00,\n",
            "         0.00000000e+00,  0.00000000e+00,  0.00000000e+00,\n",
            "         0.00000000e+00,  0.00000000e+00,  0.00000000e+00,\n",
            "         0.00000000e+00],\n",
            "       [ 1.26976333e-02,  7.99834959e-03,  1.22709812e-02,\n",
            "         1.27714016e-02,  1.35857491e-02,  1.11447125e-02,\n",
            "         9.59348770e-03,  8.57994197e-03,  1.16433248e-02,\n",
            "         9.83903695e-03],\n",
            "       [ 1.24506581e-01,  1.33478555e-01,  1.21372439e-01,\n",
            "         1.22290048e-01,  1.23579390e-01,  1.22598897e-01,\n",
            "         1.32122608e-01,  1.33237412e-01,  1.23216513e-01,\n",
            "         1.26976359e-01],\n",
            "       [ 2.80864411e-02,  2.50173672e-02,  2.31274389e-02,\n",
            "         2.53461612e-02,  1.57101803e-02,  2.42860753e-02,\n",
            "         2.16925403e-02,  2.42801647e-02,  2.38962236e-02,\n",
            "         2.45373508e-02],\n",
            "       [ 3.02090967e-03,  3.30022536e-03,  2.54097063e-03,\n",
            "         3.35559138e-03,  7.95384528e-04,  2.92656189e-03,\n",
            "         3.16587282e-03,  2.21807095e-03,  2.61758017e-03,\n",
            "         3.87316476e-03],\n",
            "       [ 3.02270025e-02,  2.73609969e-02,  2.26589086e-02,\n",
            "         2.79817082e-02,  2.48701302e-02,  3.06307210e-02,\n",
            "         2.70250898e-02,  2.74370500e-02,  2.25663745e-02,\n",
            "         2.79884335e-02],\n",
            "       [ 0.00000000e+00,  0.00000000e+00,  0.00000000e+00,\n",
            "         0.00000000e+00,  0.00000000e+00,  0.00000000e+00,\n",
            "         0.00000000e+00,  0.00000000e+00,  0.00000000e+00,\n",
            "         0.00000000e+00],\n",
            "       [ 8.37565289e-03,  7.13788383e-03,  8.22371324e-03,\n",
            "         1.00549250e-02,  8.54132062e-03,  7.86398368e-03,\n",
            "         6.97797679e-03,  7.92175891e-03,  7.42696353e-03,\n",
            "         9.26529118e-03],\n",
            "       [ 4.46985965e-01,  4.15182173e-01,  4.46175053e-01,\n",
            "         4.31547367e-01,  4.17505250e-01,  4.41789411e-01,\n",
            "         4.27476162e-01,  4.38289126e-01,  4.09233891e-01,\n",
            "         4.24501295e-01],\n",
            "       [ 4.10684360e-02,  3.85442160e-02,  3.94883760e-02,\n",
            "         3.31519167e-02,  3.57651324e-02,  3.99920703e-02,\n",
            "         4.86527008e-02,  4.24478638e-02,  3.37970572e-02,\n",
            "         3.72160974e-02],\n",
            "       [ 2.16549317e-02,  1.82274266e-02,  1.79770537e-02,\n",
            "         2.01806502e-02,  1.68404036e-02,  1.64589938e-02,\n",
            "         1.77739935e-02,  1.99871358e-02,  1.71752913e-02,\n",
            "         1.97618895e-02],\n",
            "       [ 1.41156113e-03,  2.10781342e-03,  1.10422508e-03,\n",
            "         3.44765195e-03,  3.40112795e-03,  1.49162249e-03,\n",
            "         2.34185171e-03,  4.06053941e-03,  2.35349414e-03,\n",
            "         1.45670795e-03],\n",
            "       [ 1.13378921e-02,  9.16026219e-03,  1.23436120e-02,\n",
            "         7.53738566e-03,  9.23290193e-03,  1.31155849e-02,\n",
            "         1.22814704e-02,  1.20927414e-02,  1.01776307e-02,\n",
            "         8.75696223e-03],\n",
            "       [ 3.63525205e-03,  8.89195191e-04,  1.64847418e-03,\n",
            "         2.22399960e-03,  3.07160372e-03,  2.46952202e-03,\n",
            "         1.47672958e-03,  2.33030387e-03,  1.89812181e-03,\n",
            "         2.48436519e-03],\n",
            "       [ 3.60606585e-04, -4.16234103e-04, -8.30332807e-04,\n",
            "         3.12356435e-04, -7.60963566e-04, -5.67725931e-04,\n",
            "         1.95907252e-05, -8.80660641e-04, -9.58200788e-04,\n",
            "        -2.85870970e-04],\n",
            "       [ 0.00000000e+00,  0.00000000e+00,  0.00000000e+00,\n",
            "         0.00000000e+00,  0.00000000e+00,  0.00000000e+00,\n",
            "         0.00000000e+00,  0.00000000e+00,  0.00000000e+00,\n",
            "         0.00000000e+00],\n",
            "       [ 1.61975098e-01,  1.75923339e-01,  1.64333187e-01,\n",
            "         1.49219599e-01,  1.70525023e-01,  1.80977344e-01,\n",
            "         1.77531960e-01,  1.59262610e-01,  1.62437161e-01,\n",
            "         1.74962771e-01]])}\n"
          ]
        }
      ]
    },
    {
      "cell_type": "code",
      "source": [
        "new_result = {}\n",
        "for i in range(0,len(result[\"importances_mean\"])): \n",
        "        array = result[\"importances_mean\"]\n",
        "        # for x in array:\n",
        "        #   avg = array[x].mean()\n",
        "        #   new_result[\"average\"] += avg\n",
        "print(array)\n",
        "print(new_result)"
      ],
      "metadata": {
        "id": "K2ewDqbhBAAU",
        "outputId": "c5371629-e2d6-4145-e658-554f4721aa62",
        "colab": {
          "base_uri": "https://localhost:8080/"
        }
      },
      "execution_count": 32,
      "outputs": [
        {
          "output_type": "stream",
          "name": "stdout",
          "text": [
            "[ 1.32556598e+04  1.68086034e+04  1.77444188e+06  2.75470046e+05\n",
            "  6.22877015e+03  0.00000000e+00  0.00000000e+00  9.23792258e+04\n",
            "  1.05979895e+06  1.97954324e+05  2.33323529e+04  2.25440833e+05\n",
            "  0.00000000e+00  6.86099799e+04  3.60599892e+06  3.27259619e+05\n",
            "  1.56059792e+05  1.94419372e+04  8.89498159e+04  1.85619487e+04\n",
            " -3.36168018e+03  0.00000000e+00  1.40689379e+06]\n",
            "{}\n"
          ]
        }
      ]
    },
    {
      "cell_type": "markdown",
      "source": [
        "### Make an average of permutations and put that into a bar chart\n"
      ],
      "metadata": {
        "id": "rJ6cHcVmogZ1"
      }
    },
    {
      "cell_type": "markdown",
      "source": [
        "# Visualizations\n"
      ],
      "metadata": {
        "id": "JtYwDRsYc9I5"
      }
    },
    {
      "cell_type": "markdown",
      "source": [
        "### sqft_living, dist,lat,sqft_living15,long,waterfront"
      ],
      "metadata": {
        "id": "3szD7J6Dmvhh"
      }
    }
  ]
}